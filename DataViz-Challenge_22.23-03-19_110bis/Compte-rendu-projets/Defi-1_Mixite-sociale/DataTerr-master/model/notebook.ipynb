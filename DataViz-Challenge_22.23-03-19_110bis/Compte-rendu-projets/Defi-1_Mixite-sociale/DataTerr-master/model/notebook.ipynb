{
 "cells": [
  {
   "cell_type": "code",
   "execution_count": 2,
   "metadata": {},
   "outputs": [
    {
     "name": "stderr",
     "output_type": "stream",
     "text": [
      "/home/phong/anaconda3/lib/python3.6/site-packages/statsmodels/compat/pandas.py:56: FutureWarning: The pandas.core.datetools module is deprecated and will be removed in a future version. Please use the pandas.tseries module instead.\n",
      "  from pandas.core import datetools\n"
     ]
    }
   ],
   "source": [
    "import numpy as np\n",
    "import pandas as pd\n",
    "import matplotlib.pyplot as plt\n",
    "%matplotlib inline\n",
    "%load_ext blackcellmagic\n",
    "\n",
    "from sklearn.linear_model import LinearRegression\n",
    "from sklearn.ensemble import RandomForestRegressor\n",
    "from sklearn.model_selection import train_test_split\n",
    "from sklearn.metrics import mean_squared_error, r2_score\n",
    "from sklearn.preprocessing import normalize, StandardScaler\n",
    "\n",
    "import statsmodels.api as sm"
   ]
  },
  {
   "cell_type": "markdown",
   "metadata": {},
   "source": [
    "## Importation"
   ]
  },
  {
   "cell_type": "code",
   "execution_count": 3,
   "metadata": {},
   "outputs": [
    {
     "name": "stderr",
     "output_type": "stream",
     "text": [
      "/home/phong/anaconda3/lib/python3.6/site-packages/IPython/core/interactiveshell.py:3020: DtypeWarning: Columns (1,34,35) have mixed types. Specify dtype option on import or set low_memory=False.\n",
      "  interactivity=interactivity, compiler=compiler, result=result)\n"
     ]
    }
   ],
   "source": [
    "eleves = pd.read_csv(\"Données-élèves/Défi1-Données-élèves.csv\")\n",
    "cours = pd.read_csv(\"Données-personnels/cours.csv\")\n",
    "structures = pd.read_csv(\"Données-personnels/structures.csv\", sep=\";\")\n",
    "pcs = pd.read_csv(\"Données-élèves/n_pcs_.csv\")"
   ]
  },
  {
   "cell_type": "code",
   "execution_count": 4,
   "metadata": {},
   "outputs": [
    {
     "name": "stderr",
     "output_type": "stream",
     "text": [
      "/home/phong/anaconda3/lib/python3.6/site-packages/IPython/core/interactiveshell.py:3020: DtypeWarning: Columns (7,22,25) have mixed types. Specify dtype option on import or set low_memory=False.\n",
      "  interactivity=interactivity, compiler=compiler, result=result)\n"
     ]
    }
   ],
   "source": [
    "etablissements = pd.read_csv(\n",
    "    \"fr-en-adresse-et-geolocalisation-etablissements-premier-et-second-degre.csv\",\n",
    "    sep=\";\",\n",
    ")\n",
    "etablissements = etablissements[\n",
    "    [\"Code établissement\", \"Secteur Public/Privé\", \"Coordonnee X\", \"Coordonnee Y\"]\n",
    "]\n",
    "etablissements[\"Prive\"] = np.where(\n",
    "    etablissements[\"Secteur Public/Privé\"] == \"Privé\", 1, 0\n",
    ")\n"
   ]
  },
  {
   "cell_type": "code",
   "execution_count": 5,
   "metadata": {},
   "outputs": [],
   "source": [
    "eleves = eleves.merge(pcs, how=\"left\", left_on=\"PCS_resp1\", right_on=\"PCS\")\n",
    "eleves = eleves[\n",
    "    eleves[\"MEFSTAT11\"].str[0:3].replace(\" \", \"\").isin([\"211\", \"213\", \"243\"])\n",
    "]\n",
    "eleves[\"Identifiant_division\"] = eleves[\"Identifiant_division\"].str.replace(\" \", \"\")\n",
    "# eleves.to_csv(\"eleves_pcs.csv\", index=False)\n"
   ]
  },
  {
   "cell_type": "code",
   "execution_count": 6,
   "metadata": {},
   "outputs": [],
   "source": [
    "personnels = cours.merge(structures, how=\"left\", on=[\"uaarne\", \"elstco\", \"elstty\"])\n",
    "personnels = personnels[\n",
    "    personnels[\"mefsta11\"].str[0:3].replace(\" \", \"\").isin([\"211\", \"213\", \"243\"])\n",
    "]\n",
    "# personnels.to_csv(\"personnels.csv\", index=False)\n"
   ]
  },
  {
   "cell_type": "code",
   "execution_count": 7,
   "metadata": {},
   "outputs": [
    {
     "data": {
      "text/plain": [
       "Index(['ID', 'commune_residence', 'X', 'Y', 'SEXE', 'Annee_naissance',\n",
       "       'PCS_resp1', 'Regime_scolaire', 'Etablissement_en_cours',\n",
       "       'Code_nature_etablissement', 'Secteur_annee_en_cours',\n",
       "       'Identifiant_division', 'Contrat_division', 'MEF_annee_en_cours',\n",
       "       'Type_MEF_annee_en_cours', 'MEFSTAT11', 'Option1_annee_en_cours',\n",
       "       'Option2_annee_en_cours', 'Option3_annee_en_cours',\n",
       "       'Option4_annee_en_cours', 'Option5_annee_en_cours',\n",
       "       'Option6_annee_en_cours', 'Option7_annee_en_cours',\n",
       "       'Option8_annee_en_cours', 'Option9_annee_en_cours',\n",
       "       'Option10_annee_en_cours', 'Option11_annee_en_cours',\n",
       "       'Option12_annee_en_cours', 'Modalite_election_option1',\n",
       "       'Modalite_election_option2', 'Modalite_election_option3',\n",
       "       'Modalite_election_option4', 'Modalite_election_option5',\n",
       "       'Modalite_election_option6', 'Modalite_election_option7',\n",
       "       'Modalite_election_option8', 'Modalite_election_option9',\n",
       "       'Modalite_election_option10', 'Modalite_election_option11',\n",
       "       'Modalite_election_option12', 'PCS', 'LIBELLE_COURT', 'PCS_INDICATEUR'],\n",
       "      dtype='object')"
      ]
     },
     "execution_count": 7,
     "metadata": {},
     "output_type": "execute_result"
    }
   ],
   "source": [
    "eleves.columns"
   ]
  },
  {
   "cell_type": "code",
   "execution_count": 8,
   "metadata": {},
   "outputs": [
    {
     "data": {
      "text/plain": [
       "Index(['uaarne', 'elstco', 'elstty', 'dispco', 'menhag', 'matdpd', 'GRADCO',\n",
       "       'DISCCO', 'PLG_CODE_COMMUNE', 'X', 'Y', 'identifiant', 'secteur',\n",
       "       'mefsta11'],\n",
       "      dtype='object')"
      ]
     },
     "execution_count": 8,
     "metadata": {},
     "output_type": "execute_result"
    }
   ],
   "source": [
    "personnels.columns"
   ]
  },
  {
   "cell_type": "code",
   "execution_count": 9,
   "metadata": {},
   "outputs": [],
   "source": [
    "df = eleves.merge(personnels, how=\"left\", left_on=[\"Etablissement_en_cours\", \"Identifiant_division\"], right_on=[\"uaarne\", \"elstco\"])"
   ]
  },
  {
   "cell_type": "markdown",
   "metadata": {},
   "source": [
    "## Exploration"
   ]
  },
  {
   "cell_type": "markdown",
   "metadata": {},
   "source": [
    "## Pre-features"
   ]
  },
  {
   "cell_type": "code",
   "execution_count": 10,
   "metadata": {},
   "outputs": [],
   "source": [
    "df[\"hommes\"] = (df[\"SEXE\"] == 1)\n",
    "df[\"femmes\"] = (df[\"SEXE\"] == 2)"
   ]
  },
  {
   "cell_type": "code",
   "execution_count": 11,
   "metadata": {},
   "outputs": [],
   "source": [
    "options_temp = df[\n",
    "    [\n",
    "        \"Option1_annee_en_cours\",\n",
    "        \"Option2_annee_en_cours\",\n",
    "        \"Option3_annee_en_cours\",\n",
    "        \"Option4_annee_en_cours\",\n",
    "        \"Option5_annee_en_cours\",\n",
    "        \"Option6_annee_en_cours\",\n",
    "        \"Option7_annee_en_cours\",\n",
    "        \"Option8_annee_en_cours\",\n",
    "        \"Option9_annee_en_cours\",\n",
    "        \"Option10_annee_en_cours\",\n",
    "        \"Option11_annee_en_cours\",\n",
    "        \"Option12_annee_en_cours\",\n",
    "    ]\n",
    "].values\n",
    "\n",
    "df[\"options_list\"] = pd.Series([x[~np.isnan(x)] for x in options_temp])\n"
   ]
  },
  {
   "cell_type": "code",
   "execution_count": 12,
   "metadata": {},
   "outputs": [],
   "source": [
    "df[\"score\"] = np.where(\n",
    "    df[\"PCS_INDICATEUR\"] == \"A\",\n",
    "    4,\n",
    "    np.where(\n",
    "        df[\"PCS_INDICATEUR\"] == \"B\",\n",
    "        3,\n",
    "        np.where(\n",
    "            df[\"PCS_INDICATEUR\"] == \"C\", 2, np.where(df[\"PCS_INDICATEUR\"] == \"D\", 1, 0)\n",
    "        ),\n",
    "    ),\n",
    ")\n"
   ]
  },
  {
   "cell_type": "code",
   "execution_count": 13,
   "metadata": {},
   "outputs": [],
   "source": [
    "df[\"internes\"] = df[\"Regime_scolaire\"].isin([3, 4, 5])\n"
   ]
  },
  {
   "cell_type": "code",
   "execution_count": 14,
   "metadata": {},
   "outputs": [],
   "source": [
    "df = (\n",
    "    df.merge(\n",
    "        etablissements, how=\"left\", left_on=\"Etablissement_en_cours\", right_on=\"Code établissement\"\n",
    "    )\n",
    "    .set_index(\"Code établissement\")\n",
    "    .drop(\"Secteur Public/Privé\", axis=1)\n",
    ")\n"
   ]
  },
  {
   "cell_type": "code",
   "execution_count": 15,
   "metadata": {},
   "outputs": [],
   "source": [
    "df[\"distance\"] = np.sqrt(\n",
    "    (df[\"X_x\"] - df[\"Coordonnee X\"]) ** 2 + (df[\"Y_x\"] - df[\"Coordonnee Y\"]) ** 2\n",
    ")\n"
   ]
  },
  {
   "cell_type": "code",
   "execution_count": 16,
   "metadata": {},
   "outputs": [
    {
     "data": {
      "text/plain": [
       "Index(['ID', 'commune_residence', 'X_x', 'Y_x', 'SEXE', 'Annee_naissance',\n",
       "       'PCS_resp1', 'Regime_scolaire', 'Etablissement_en_cours',\n",
       "       'Code_nature_etablissement', 'Secteur_annee_en_cours',\n",
       "       'Identifiant_division', 'Contrat_division', 'MEF_annee_en_cours',\n",
       "       'Type_MEF_annee_en_cours', 'MEFSTAT11', 'Option1_annee_en_cours',\n",
       "       'Option2_annee_en_cours', 'Option3_annee_en_cours',\n",
       "       'Option4_annee_en_cours', 'Option5_annee_en_cours',\n",
       "       'Option6_annee_en_cours', 'Option7_annee_en_cours',\n",
       "       'Option8_annee_en_cours', 'Option9_annee_en_cours',\n",
       "       'Option10_annee_en_cours', 'Option11_annee_en_cours',\n",
       "       'Option12_annee_en_cours', 'Modalite_election_option1',\n",
       "       'Modalite_election_option2', 'Modalite_election_option3',\n",
       "       'Modalite_election_option4', 'Modalite_election_option5',\n",
       "       'Modalite_election_option6', 'Modalite_election_option7',\n",
       "       'Modalite_election_option8', 'Modalite_election_option9',\n",
       "       'Modalite_election_option10', 'Modalite_election_option11',\n",
       "       'Modalite_election_option12', 'PCS', 'LIBELLE_COURT', 'PCS_INDICATEUR',\n",
       "       'uaarne', 'elstco', 'elstty', 'dispco', 'menhag', 'matdpd', 'GRADCO',\n",
       "       'DISCCO', 'PLG_CODE_COMMUNE', 'X_y', 'Y_y', 'identifiant', 'secteur',\n",
       "       'mefsta11', 'hommes', 'femmes', 'options_list', 'score', 'internes',\n",
       "       'Coordonnee X', 'Coordonnee Y', 'Prive', 'distance'],\n",
       "      dtype='object')"
      ]
     },
     "execution_count": 16,
     "metadata": {},
     "output_type": "execute_result"
    }
   ],
   "source": [
    "df.columns"
   ]
  },
  {
   "cell_type": "markdown",
   "metadata": {},
   "source": [
    "## Features"
   ]
  },
  {
   "cell_type": "code",
   "execution_count": 17,
   "metadata": {},
   "outputs": [],
   "source": [
    "nb_eleves = df.groupby(\"Etablissement_en_cours\")[\"ID\"].nunique()\n"
   ]
  },
  {
   "cell_type": "code",
   "execution_count": 18,
   "metadata": {},
   "outputs": [],
   "source": [
    "nb_internes = (\n",
    "    df.groupby([\"Etablissement_en_cours\", \"ID\"])[\"internes\"]\n",
    "    .nth(0)\n",
    "    .groupby(\"Etablissement_en_cours\")\n",
    "    .sum()\n",
    ")\n",
    "pourcent_internes = (nb_internes / nb_eleves).rename(\"pourcent_internes\")\n"
   ]
  },
  {
   "cell_type": "code",
   "execution_count": 19,
   "metadata": {},
   "outputs": [],
   "source": [
    "nb_option_1 = df.groupby(\"Etablissement_en_cours\")[\"Option1_annee_en_cours\"].nunique()\n",
    "nb_option_2 = df.groupby(\"Etablissement_en_cours\")[\"Option2_annee_en_cours\"].nunique()\n",
    "nb_option_3 = df.groupby(\"Etablissement_en_cours\")[\"Option3_annee_en_cours\"].nunique()\n",
    "nb_option_4 = df.groupby(\"Etablissement_en_cours\")[\"Option4_annee_en_cours\"].nunique()\n",
    "nb_option_5 = df.groupby(\"Etablissement_en_cours\")[\"Option5_annee_en_cours\"].nunique()\n",
    "nb_option_6 = df.groupby(\"Etablissement_en_cours\")[\"Option6_annee_en_cours\"].nunique()\n"
   ]
  },
  {
   "cell_type": "code",
   "execution_count": 20,
   "metadata": {},
   "outputs": [],
   "source": [
    "nb_hommes = (\n",
    "    df.groupby([\"Etablissement_en_cours\", \"ID\"])[\"hommes\"]\n",
    "    .nth(0)\n",
    "    .groupby(\"Etablissement_en_cours\")\n",
    "    .sum()\n",
    ")\n",
    "nb_femmes = (\n",
    "    df.groupby([\"Etablissement_en_cours\", \"ID\"])[\"femmes\"]\n",
    "    .nth(0)\n",
    "    .groupby(\"Etablissement_en_cours\")\n",
    "    .sum()\n",
    ")\n"
   ]
  },
  {
   "cell_type": "code",
   "execution_count": 21,
   "metadata": {},
   "outputs": [],
   "source": [
    "total_options = (\n",
    "    df.groupby(\"Etablissement_en_cours\")[\"options_list\"]\n",
    "    .apply(np.hstack)\n",
    "    .apply(np.unique)\n",
    ")\n"
   ]
  },
  {
   "cell_type": "code",
   "execution_count": 22,
   "metadata": {},
   "outputs": [],
   "source": [
    "option_oc = (\n",
    "    total_options.apply(lambda x: 35807 in x)\n",
    ").rename(\"option_oc\")\n",
    "\n",
    "option_aide = (\n",
    "    total_options.apply(lambda x: 9800 in x)\n",
    ").rename(\"option_aide\")\n",
    "\n",
    "option_art = (\n",
    "    total_options.apply(lambda x: 99800 in x)\n",
    ").rename(\"option_art\")\n",
    "\n",
    "option_sport = (\n",
    "    total_options.apply(lambda x: 109800 in x)\n",
    ").rename(\"option_sport\")\n",
    "\n",
    "option_portugais = (\n",
    "    total_options.apply(lambda x: 31102 in x)\n",
    ").rename(\"option_portugais\")"
   ]
  },
  {
   "cell_type": "code",
   "execution_count": 23,
   "metadata": {},
   "outputs": [],
   "source": [
    "a = pd.Series(np.concatenate(total_options))\n",
    "test = a.value_counts().sort_index().rename_axis('code').reset_index(name='total')"
   ]
  },
  {
   "cell_type": "code",
   "execution_count": 24,
   "metadata": {},
   "outputs": [],
   "source": [
    "from collections import Counter\n",
    "from  itertools import chain\n",
    "\n",
    "test_2 = pd.Series(Counter(chain(*total_options))).sort_index().rename_axis('code').reset_index(name='total')\n"
   ]
  },
  {
   "cell_type": "code",
   "execution_count": 25,
   "metadata": {},
   "outputs": [
    {
     "data": {
      "text/html": [
       "<div>\n",
       "<style scoped>\n",
       "    .dataframe tbody tr th:only-of-type {\n",
       "        vertical-align: middle;\n",
       "    }\n",
       "\n",
       "    .dataframe tbody tr th {\n",
       "        vertical-align: top;\n",
       "    }\n",
       "\n",
       "    .dataframe thead th {\n",
       "        text-align: right;\n",
       "    }\n",
       "</style>\n",
       "<table border=\"1\" class=\"dataframe\">\n",
       "  <thead>\n",
       "    <tr style=\"text-align: right;\">\n",
       "      <th></th>\n",
       "      <th>code</th>\n",
       "      <th>total</th>\n",
       "    </tr>\n",
       "  </thead>\n",
       "  <tbody>\n",
       "    <tr>\n",
       "      <th>11</th>\n",
       "      <td>30201.0</td>\n",
       "      <td>418</td>\n",
       "    </tr>\n",
       "    <tr>\n",
       "      <th>21</th>\n",
       "      <td>30602.0</td>\n",
       "      <td>415</td>\n",
       "    </tr>\n",
       "    <tr>\n",
       "      <th>2</th>\n",
       "      <td>20300.0</td>\n",
       "      <td>308</td>\n",
       "    </tr>\n",
       "    <tr>\n",
       "      <th>7</th>\n",
       "      <td>30102.0</td>\n",
       "      <td>151</td>\n",
       "    </tr>\n",
       "    <tr>\n",
       "      <th>12</th>\n",
       "      <td>30202.0</td>\n",
       "      <td>137</td>\n",
       "    </tr>\n",
       "    <tr>\n",
       "      <th>20</th>\n",
       "      <td>30601.0</td>\n",
       "      <td>114</td>\n",
       "    </tr>\n",
       "    <tr>\n",
       "      <th>35</th>\n",
       "      <td>38002.0</td>\n",
       "      <td>72</td>\n",
       "    </tr>\n",
       "    <tr>\n",
       "      <th>33</th>\n",
       "      <td>35807.0</td>\n",
       "      <td>47</td>\n",
       "    </tr>\n",
       "    <tr>\n",
       "      <th>1</th>\n",
       "      <td>9800.0</td>\n",
       "      <td>46</td>\n",
       "    </tr>\n",
       "    <tr>\n",
       "      <th>42</th>\n",
       "      <td>99800.0</td>\n",
       "      <td>43</td>\n",
       "    </tr>\n",
       "    <tr>\n",
       "      <th>6</th>\n",
       "      <td>30101.0</td>\n",
       "      <td>41</td>\n",
       "    </tr>\n",
       "    <tr>\n",
       "      <th>66</th>\n",
       "      <td>109800.0</td>\n",
       "      <td>41</td>\n",
       "    </tr>\n",
       "    <tr>\n",
       "      <th>3</th>\n",
       "      <td>20400.0</td>\n",
       "      <td>40</td>\n",
       "    </tr>\n",
       "    <tr>\n",
       "      <th>32</th>\n",
       "      <td>35107.0</td>\n",
       "      <td>33</td>\n",
       "    </tr>\n",
       "    <tr>\n",
       "      <th>52</th>\n",
       "      <td>101600.0</td>\n",
       "      <td>32</td>\n",
       "    </tr>\n",
       "    <tr>\n",
       "      <th>34</th>\n",
       "      <td>38001.0</td>\n",
       "      <td>30</td>\n",
       "    </tr>\n",
       "    <tr>\n",
       "      <th>48</th>\n",
       "      <td>101000.0</td>\n",
       "      <td>28</td>\n",
       "    </tr>\n",
       "    <tr>\n",
       "      <th>23</th>\n",
       "      <td>30902.0</td>\n",
       "      <td>28</td>\n",
       "    </tr>\n",
       "    <tr>\n",
       "      <th>5</th>\n",
       "      <td>24000.0</td>\n",
       "      <td>24</td>\n",
       "    </tr>\n",
       "    <tr>\n",
       "      <th>18</th>\n",
       "      <td>30402.0</td>\n",
       "      <td>22</td>\n",
       "    </tr>\n",
       "    <tr>\n",
       "      <th>68</th>\n",
       "      <td>509800.0</td>\n",
       "      <td>17</td>\n",
       "    </tr>\n",
       "    <tr>\n",
       "      <th>13</th>\n",
       "      <td>30209.0</td>\n",
       "      <td>16</td>\n",
       "    </tr>\n",
       "    <tr>\n",
       "      <th>10</th>\n",
       "      <td>30112.0</td>\n",
       "      <td>16</td>\n",
       "    </tr>\n",
       "    <tr>\n",
       "      <th>47</th>\n",
       "      <td>100900.0</td>\n",
       "      <td>15</td>\n",
       "    </tr>\n",
       "    <tr>\n",
       "      <th>39</th>\n",
       "      <td>84200.0</td>\n",
       "      <td>14</td>\n",
       "    </tr>\n",
       "    <tr>\n",
       "      <th>54</th>\n",
       "      <td>101800.0</td>\n",
       "      <td>9</td>\n",
       "    </tr>\n",
       "    <tr>\n",
       "      <th>40</th>\n",
       "      <td>84300.0</td>\n",
       "      <td>9</td>\n",
       "    </tr>\n",
       "    <tr>\n",
       "      <th>49</th>\n",
       "      <td>101300.0</td>\n",
       "      <td>9</td>\n",
       "    </tr>\n",
       "    <tr>\n",
       "      <th>37</th>\n",
       "      <td>81100.0</td>\n",
       "      <td>8</td>\n",
       "    </tr>\n",
       "    <tr>\n",
       "      <th>4</th>\n",
       "      <td>23900.0</td>\n",
       "      <td>7</td>\n",
       "    </tr>\n",
       "    <tr>\n",
       "      <th>...</th>\n",
       "      <td>...</td>\n",
       "      <td>...</td>\n",
       "    </tr>\n",
       "    <tr>\n",
       "      <th>41</th>\n",
       "      <td>84400.0</td>\n",
       "      <td>5</td>\n",
       "    </tr>\n",
       "    <tr>\n",
       "      <th>59</th>\n",
       "      <td>103500.0</td>\n",
       "      <td>4</td>\n",
       "    </tr>\n",
       "    <tr>\n",
       "      <th>67</th>\n",
       "      <td>470400.0</td>\n",
       "      <td>3</td>\n",
       "    </tr>\n",
       "    <tr>\n",
       "      <th>45</th>\n",
       "      <td>100700.0</td>\n",
       "      <td>3</td>\n",
       "    </tr>\n",
       "    <tr>\n",
       "      <th>56</th>\n",
       "      <td>102100.0</td>\n",
       "      <td>3</td>\n",
       "    </tr>\n",
       "    <tr>\n",
       "      <th>15</th>\n",
       "      <td>30302.0</td>\n",
       "      <td>3</td>\n",
       "    </tr>\n",
       "    <tr>\n",
       "      <th>8</th>\n",
       "      <td>30109.0</td>\n",
       "      <td>2</td>\n",
       "    </tr>\n",
       "    <tr>\n",
       "      <th>57</th>\n",
       "      <td>102200.0</td>\n",
       "      <td>2</td>\n",
       "    </tr>\n",
       "    <tr>\n",
       "      <th>50</th>\n",
       "      <td>101400.0</td>\n",
       "      <td>2</td>\n",
       "    </tr>\n",
       "    <tr>\n",
       "      <th>61</th>\n",
       "      <td>104500.0</td>\n",
       "      <td>2</td>\n",
       "    </tr>\n",
       "    <tr>\n",
       "      <th>63</th>\n",
       "      <td>106100.0</td>\n",
       "      <td>2</td>\n",
       "    </tr>\n",
       "    <tr>\n",
       "      <th>19</th>\n",
       "      <td>30412.0</td>\n",
       "      <td>2</td>\n",
       "    </tr>\n",
       "    <tr>\n",
       "      <th>9</th>\n",
       "      <td>30111.0</td>\n",
       "      <td>2</td>\n",
       "    </tr>\n",
       "    <tr>\n",
       "      <th>36</th>\n",
       "      <td>38007.0</td>\n",
       "      <td>2</td>\n",
       "    </tr>\n",
       "    <tr>\n",
       "      <th>27</th>\n",
       "      <td>31112.0</td>\n",
       "      <td>2</td>\n",
       "    </tr>\n",
       "    <tr>\n",
       "      <th>29</th>\n",
       "      <td>31412.0</td>\n",
       "      <td>2</td>\n",
       "    </tr>\n",
       "    <tr>\n",
       "      <th>16</th>\n",
       "      <td>30312.0</td>\n",
       "      <td>2</td>\n",
       "    </tr>\n",
       "    <tr>\n",
       "      <th>14</th>\n",
       "      <td>30212.0</td>\n",
       "      <td>2</td>\n",
       "    </tr>\n",
       "    <tr>\n",
       "      <th>0</th>\n",
       "      <td>5300.0</td>\n",
       "      <td>2</td>\n",
       "    </tr>\n",
       "    <tr>\n",
       "      <th>43</th>\n",
       "      <td>100300.0</td>\n",
       "      <td>2</td>\n",
       "    </tr>\n",
       "    <tr>\n",
       "      <th>38</th>\n",
       "      <td>83200.0</td>\n",
       "      <td>1</td>\n",
       "    </tr>\n",
       "    <tr>\n",
       "      <th>55</th>\n",
       "      <td>101900.0</td>\n",
       "      <td>1</td>\n",
       "    </tr>\n",
       "    <tr>\n",
       "      <th>44</th>\n",
       "      <td>100400.0</td>\n",
       "      <td>1</td>\n",
       "    </tr>\n",
       "    <tr>\n",
       "      <th>30</th>\n",
       "      <td>33409.0</td>\n",
       "      <td>1</td>\n",
       "    </tr>\n",
       "    <tr>\n",
       "      <th>53</th>\n",
       "      <td>101700.0</td>\n",
       "      <td>1</td>\n",
       "    </tr>\n",
       "    <tr>\n",
       "      <th>64</th>\n",
       "      <td>107100.0</td>\n",
       "      <td>1</td>\n",
       "    </tr>\n",
       "    <tr>\n",
       "      <th>65</th>\n",
       "      <td>107200.0</td>\n",
       "      <td>1</td>\n",
       "    </tr>\n",
       "    <tr>\n",
       "      <th>25</th>\n",
       "      <td>31002.0</td>\n",
       "      <td>1</td>\n",
       "    </tr>\n",
       "    <tr>\n",
       "      <th>17</th>\n",
       "      <td>30401.0</td>\n",
       "      <td>1</td>\n",
       "    </tr>\n",
       "    <tr>\n",
       "      <th>31</th>\n",
       "      <td>35102.0</td>\n",
       "      <td>1</td>\n",
       "    </tr>\n",
       "  </tbody>\n",
       "</table>\n",
       "<p>69 rows × 2 columns</p>\n",
       "</div>"
      ],
      "text/plain": [
       "        code  total\n",
       "11   30201.0    418\n",
       "21   30602.0    415\n",
       "2    20300.0    308\n",
       "7    30102.0    151\n",
       "12   30202.0    137\n",
       "20   30601.0    114\n",
       "35   38002.0     72\n",
       "33   35807.0     47\n",
       "1     9800.0     46\n",
       "42   99800.0     43\n",
       "6    30101.0     41\n",
       "66  109800.0     41\n",
       "3    20400.0     40\n",
       "32   35107.0     33\n",
       "52  101600.0     32\n",
       "34   38001.0     30\n",
       "48  101000.0     28\n",
       "23   30902.0     28\n",
       "5    24000.0     24\n",
       "18   30402.0     22\n",
       "68  509800.0     17\n",
       "13   30209.0     16\n",
       "10   30112.0     16\n",
       "47  100900.0     15\n",
       "39   84200.0     14\n",
       "54  101800.0      9\n",
       "40   84300.0      9\n",
       "49  101300.0      9\n",
       "37   81100.0      8\n",
       "4    23900.0      7\n",
       "..       ...    ...\n",
       "41   84400.0      5\n",
       "59  103500.0      4\n",
       "67  470400.0      3\n",
       "45  100700.0      3\n",
       "56  102100.0      3\n",
       "15   30302.0      3\n",
       "8    30109.0      2\n",
       "57  102200.0      2\n",
       "50  101400.0      2\n",
       "61  104500.0      2\n",
       "63  106100.0      2\n",
       "19   30412.0      2\n",
       "9    30111.0      2\n",
       "36   38007.0      2\n",
       "27   31112.0      2\n",
       "29   31412.0      2\n",
       "16   30312.0      2\n",
       "14   30212.0      2\n",
       "0     5300.0      2\n",
       "43  100300.0      2\n",
       "38   83200.0      1\n",
       "55  101900.0      1\n",
       "44  100400.0      1\n",
       "30   33409.0      1\n",
       "53  101700.0      1\n",
       "64  107100.0      1\n",
       "65  107200.0      1\n",
       "25   31002.0      1\n",
       "17   30401.0      1\n",
       "31   35102.0      1\n",
       "\n",
       "[69 rows x 2 columns]"
      ]
     },
     "execution_count": 25,
     "metadata": {},
     "output_type": "execute_result"
    }
   ],
   "source": [
    "test_2.sort_values(\"total\", ascending=False)"
   ]
  },
  {
   "cell_type": "code",
   "execution_count": 26,
   "metadata": {},
   "outputs": [],
   "source": [
    "nb_options = total_options.apply(len)"
   ]
  },
  {
   "cell_type": "code",
   "execution_count": 27,
   "metadata": {},
   "outputs": [],
   "source": [
    "score_mean = df.groupby(\"Etablissement_en_cours\")[\"score\"].mean()"
   ]
  },
  {
   "cell_type": "code",
   "execution_count": 28,
   "metadata": {},
   "outputs": [],
   "source": [
    "D_temp = (\n",
    "    df.groupby([\"Etablissement_en_cours\", \"ID\"])[\"score\"]\n",
    "    .nth(0)\n",
    "    .groupby(\"Etablissement_en_cours\")\n",
    "    .value_counts()\n",
    ")\n",
    "nb_D = D_temp[D_temp.index.get_level_values(1) == 1].rename(\"D\")\n",
    "nb_D.index = nb_D.index.droplevel(1)\n",
    "\n",
    "C_temp = (\n",
    "    df.groupby([\"Etablissement_en_cours\", \"ID\"])[\"score\"]\n",
    "    .nth(0)\n",
    "    .groupby(\"Etablissement_en_cours\")\n",
    "    .value_counts()\n",
    ")\n",
    "nb_C = C_temp[C_temp.index.get_level_values(1) == 2].rename(\"C\")\n",
    "nb_C.index = nb_C.index.droplevel(1)\n",
    "\n",
    "B_temp = (\n",
    "    df.groupby([\"Etablissement_en_cours\", \"ID\"])[\"score\"]\n",
    "    .nth(0)\n",
    "    .groupby(\"Etablissement_en_cours\")\n",
    "    .value_counts()\n",
    ")\n",
    "nb_B = B_temp[B_temp.index.get_level_values(1) == 3].rename(\"B\")\n",
    "nb_B.index = nb_B.index.droplevel(1)\n",
    "\n",
    "A_temp = (\n",
    "    df.groupby([\"Etablissement_en_cours\", \"ID\"])[\"score\"]\n",
    "    .nth(0)\n",
    "    .groupby(\"Etablissement_en_cours\")\n",
    "    .value_counts()\n",
    ")\n",
    "nb_A = A_temp[A_temp.index.get_level_values(1) == 4].rename(\"A\")\n",
    "nb_A.index = nb_A.index.droplevel(1)\n"
   ]
  },
  {
   "cell_type": "code",
   "execution_count": 29,
   "metadata": {},
   "outputs": [],
   "source": [
    "mean_distance = (\n",
    "    df.groupby([\"Etablissement_en_cours\", \"ID\"])[\"distance\"]\n",
    "    .nth(0)\n",
    "    .groupby(\"Etablissement_en_cours\")\n",
    "    .mean()\n",
    ").rename(\"mean_distance\")"
   ]
  },
  {
   "cell_type": "code",
   "execution_count": 30,
   "metadata": {},
   "outputs": [],
   "source": [
    "prive = (\n",
    "    df.groupby([\"Etablissement_en_cours\"])[\"Prive\"]\n",
    "    .nth(0)\n",
    ").rename(\"prive\")"
   ]
  },
  {
   "cell_type": "markdown",
   "metadata": {},
   "source": [
    "## Final merge"
   ]
  },
  {
   "cell_type": "code",
   "execution_count": 31,
   "metadata": {},
   "outputs": [
    {
     "name": "stderr",
     "output_type": "stream",
     "text": [
      "/home/phong/anaconda3/lib/python3.6/site-packages/ipykernel_launcher.py:20: FutureWarning: Sorting because non-concatenation axis is not aligned. A future version\n",
      "of pandas will change to not sort by default.\n",
      "\n",
      "To accept the future behavior, pass 'sort=False'.\n",
      "\n",
      "To retain the current behavior and silence the warning, pass 'sort=True'.\n",
      "\n"
     ]
    }
   ],
   "source": [
    "final_df = pd.concat(\n",
    "    [\n",
    "        nb_eleves,\n",
    "        pourcent_internes,\n",
    "        nb_hommes,\n",
    "        nb_femmes,\n",
    "        nb_options,\n",
    "        nb_A,\n",
    "        nb_B,\n",
    "        nb_C,\n",
    "        nb_D,\n",
    "        mean_distance,\n",
    "        prive,\n",
    "        option_oc,\n",
    "        option_aide,\n",
    "        option_art,\n",
    "        option_sport,\n",
    "        option_portugais,\n",
    "    ],\n",
    "    axis=1,\n",
    ").fillna(0)\n",
    "final_df = final_df.rename(\n",
    "    index=str, columns={\"ID\": \"nb_eleves\", \"options_list\": \"nb_options\"}\n",
    ")\n"
   ]
  },
  {
   "cell_type": "code",
   "execution_count": 32,
   "metadata": {},
   "outputs": [],
   "source": [
    "# final_df = (\n",
    "#     final_df.merge(\n",
    "#         etablissements, how=\"left\", left_index=True, right_on=\"Code établissement\"\n",
    "#     )\n",
    "#     .set_index(\"Code établissement\")\n",
    "#     .drop(\"Secteur Public/Privé\", axis=1)\n",
    "# )\n"
   ]
  },
  {
   "cell_type": "code",
   "execution_count": 33,
   "metadata": {},
   "outputs": [],
   "source": [
    "# final_df = final_df.drop(\"Coordonnee X\", axis=1)\n",
    "# final_df = final_df.drop(\"Coordonnee Y\", axis=1)"
   ]
  },
  {
   "cell_type": "code",
   "execution_count": 34,
   "metadata": {},
   "outputs": [],
   "source": [
    "final_df[\"pourcent_femmes\"] = final_df[\"femmes\"] / final_df[\"nb_eleves\"]\n",
    "final_df = final_df.drop(\"hommes\", axis=1)\n",
    "final_df = final_df.drop(\"femmes\", axis=1)"
   ]
  },
  {
   "cell_type": "code",
   "execution_count": 35,
   "metadata": {},
   "outputs": [],
   "source": [
    "final_df[\"pourcent_D\"] = final_df[\"D\"] / final_df[\"nb_eleves\"]\n",
    "final_df[\"pourcent_C\"] = final_df[\"C\"] / final_df[\"nb_eleves\"]\n",
    "final_df[\"pourcent_B\"] = final_df[\"B\"] / final_df[\"nb_eleves\"]\n",
    "final_df[\"pourcent_A\"] = final_df[\"A\"] / final_df[\"nb_eleves\"]"
   ]
  },
  {
   "cell_type": "code",
   "execution_count": 36,
   "metadata": {},
   "outputs": [],
   "source": [
    "# def entropy(x):\n",
    "#     Nj, pA, pB, pC, pD = x[\"nb_eleves\"], x[\"pourcent_A\"], x[\"pourcent_B\"], x[\"pourcent_C\"], x[\"pourcent_D\"]\n",
    "#     hpj = pA * np.log(pA) + pB * np.log(pB) + pC * np.log(pC) + pD * np.log(pD)\n",
    "#     return (Nj / N) * ((hp - hpj) / hp)\n"
   ]
  },
  {
   "cell_type": "code",
   "execution_count": 37,
   "metadata": {},
   "outputs": [],
   "source": [
    "# N = final_df[\"nb_eleves\"].sum()\n",
    "# hp = (final_df[\"A\"].sum() / N) * np.log((final_df[\"A\"].sum() / N)) + (final_df[\"B\"].sum() / N) * np.log((final_df[\"B\"].sum() / N)) + (final_df[\"C\"].sum() / N) * np.log((final_df[\"C\"].sum() / N)) + (final_df[\"D\"].sum() / N) * np.log((final_df[\"D\"].sum() / N))"
   ]
  },
  {
   "cell_type": "code",
   "execution_count": 38,
   "metadata": {},
   "outputs": [],
   "source": [
    "# final_df[\"entropy\"] = final_df.apply(entropy, axis=1)"
   ]
  },
  {
   "cell_type": "code",
   "execution_count": 39,
   "metadata": {},
   "outputs": [],
   "source": [
    "final_df.to_csv(\"etablissements_basique.csv\")"
   ]
  },
  {
   "cell_type": "code",
   "execution_count": 40,
   "metadata": {},
   "outputs": [
    {
     "data": {
      "text/plain": [
       "Index(['nb_eleves', 'pourcent_internes', 'nb_options', 'A', 'B', 'C', 'D',\n",
       "       'mean_distance', 'prive', 'option_oc', 'option_aide', 'option_art',\n",
       "       'option_sport', 'option_portugais', 'pourcent_femmes', 'pourcent_D',\n",
       "       'pourcent_C', 'pourcent_B', 'pourcent_A'],\n",
       "      dtype='object')"
      ]
     },
     "execution_count": 40,
     "metadata": {},
     "output_type": "execute_result"
    }
   ],
   "source": [
    "final_df.columns"
   ]
  },
  {
   "cell_type": "markdown",
   "metadata": {},
   "source": [
    "## Modeling"
   ]
  },
  {
   "cell_type": "code",
   "execution_count": 41,
   "metadata": {},
   "outputs": [],
   "source": [
    "final_df = final_df[\n",
    "    [\n",
    "        \"nb_eleves\",\n",
    "        \"pourcent_internes\",\n",
    "        \"nb_options\",\n",
    "        \"prive\",\n",
    "        \"pourcent_femmes\",\n",
    "        \"mean_distance\",\n",
    "        \"pourcent_D\",\n",
    "        \"option_oc\",\n",
    "        \"option_aide\",\n",
    "        \"option_art\",\n",
    "        \"option_sport\",\n",
    "        \"option_portugais\",\n",
    "    ]\n",
    "]\n"
   ]
  },
  {
   "cell_type": "code",
   "execution_count": 42,
   "metadata": {},
   "outputs": [],
   "source": [
    "# continuous = [\"nb_eleves\", \"pourcent_femmes\", \"nb_options\"]"
   ]
  },
  {
   "cell_type": "code",
   "execution_count": 43,
   "metadata": {},
   "outputs": [],
   "source": [
    "# means = dict()\n",
    "# stds = dict()\n",
    "# for x in continuous:\n",
    "#     means[x] = final_df[x].mean()\n",
    "#     stds[x] = final_df[x].std()\n",
    "#     final_df[x] = (final_df[x] - final_df[x].mean()) / final_df[x].std()\n"
   ]
  },
  {
   "cell_type": "code",
   "execution_count": 44,
   "metadata": {},
   "outputs": [],
   "source": [
    "X = final_df.drop(\"pourcent_D\", axis=1)\n",
    "y = final_df[\"pourcent_D\"]\n"
   ]
  },
  {
   "cell_type": "code",
   "execution_count": 45,
   "metadata": {},
   "outputs": [],
   "source": [
    "X_train, X_test, y_train, y_test = train_test_split(\n",
    "    X, y, test_size=0.33, random_state=42\n",
    ")\n"
   ]
  },
  {
   "cell_type": "code",
   "execution_count": 46,
   "metadata": {},
   "outputs": [
    {
     "name": "stdout",
     "output_type": "stream",
     "text": [
      "Mean squared error: 0.02\n"
     ]
    }
   ],
   "source": [
    "regr = RandomForestRegressor(n_estimators=300, max_depth=5)\n",
    "regr.fit(X_train, y_train)\n",
    "\n",
    "y_pred = regr.predict(X_test)\n",
    "\n",
    "# print('Coefficients: \\n', regr.coef_)\n",
    "print(\"Mean squared error: %.2f\" % mean_squared_error(y_test, y_pred))\n",
    "# Explained variance score: 1 is perfect prediction\n",
    "# print('Variance score: %.2f' % r2_score(y_test, y_pred))\n"
   ]
  },
  {
   "cell_type": "code",
   "execution_count": 47,
   "metadata": {},
   "outputs": [],
   "source": [
    "# mod = sm.OLS(y, X)"
   ]
  },
  {
   "cell_type": "code",
   "execution_count": 48,
   "metadata": {},
   "outputs": [],
   "source": [
    "# res = mod.fit()\n",
    "# print(res.summary())"
   ]
  },
  {
   "cell_type": "code",
   "execution_count": 49,
   "metadata": {},
   "outputs": [],
   "source": [
    "importances = regr.feature_importances_\n",
    "std = np.std([tree.feature_importances_ for tree in regr.estimators_], axis=0)\n",
    "indices = np.argsort(importances)[::-1]\n"
   ]
  },
  {
   "cell_type": "code",
   "execution_count": 50,
   "metadata": {},
   "outputs": [
    {
     "data": {
      "image/png": "[encoded data removed]",
      "text/plain": [
       "<Figure size 1440x360 with 1 Axes>"
      ]
     },
     "metadata": {
      "needs_background": "light"
     },
     "output_type": "display_data"
    }
   ],
   "source": [
    "plt.figure(figsize=(20, 5))\n",
    "plt.title(\"Feature importances\")\n",
    "plt.bar(\n",
    "    range(X.shape[1]),\n",
    "    importances[indices],\n",
    "    color=\"turquoise\",\n",
    "    yerr=std[indices],\n",
    "    align=\"center\",\n",
    ")\n",
    "plt.xticks(range(X.shape[1]), X.columns[indices])\n",
    "plt.xlim([-1, X.shape[1]])\n",
    "plt.show()\n"
   ]
  },
  {
   "cell_type": "markdown",
   "metadata": {},
   "source": [
    "## Example"
   ]
  },
  {
   "cell_type": "code",
   "execution_count": 53,
   "metadata": {},
   "outputs": [],
   "source": [
    "etabA = \"0331461J\"\n",
    "etabB = \"0330140Y\"\n",
    "etabC = \"0332082J\""
   ]
  },
  {
   "cell_type": "code",
   "execution_count": 57,
   "metadata": {},
   "outputs": [
    {
     "data": {
      "text/html": [
       "<div>\n",
       "<style scoped>\n",
       "    .dataframe tbody tr th:only-of-type {\n",
       "        vertical-align: middle;\n",
       "    }\n",
       "\n",
       "    .dataframe tbody tr th {\n",
       "        vertical-align: top;\n",
       "    }\n",
       "\n",
       "    .dataframe thead th {\n",
       "        text-align: right;\n",
       "    }\n",
       "</style>\n",
       "<table border=\"1\" class=\"dataframe\">\n",
       "  <thead>\n",
       "    <tr style=\"text-align: right;\">\n",
       "      <th></th>\n",
       "      <th>nb_eleves</th>\n",
       "      <th>pourcent_internes</th>\n",
       "      <th>nb_options</th>\n",
       "      <th>prive</th>\n",
       "      <th>pourcent_femmes</th>\n",
       "      <th>mean_distance</th>\n",
       "      <th>pourcent_D</th>\n",
       "      <th>option_oc</th>\n",
       "      <th>option_aide</th>\n",
       "      <th>option_art</th>\n",
       "      <th>option_sport</th>\n",
       "      <th>option_portugais</th>\n",
       "    </tr>\n",
       "  </thead>\n",
       "  <tbody>\n",
       "    <tr>\n",
       "      <th>0331461J</th>\n",
       "      <td>858</td>\n",
       "      <td>0.0</td>\n",
       "      <td>7</td>\n",
       "      <td>0</td>\n",
       "      <td>0.504662</td>\n",
       "      <td>1108.263381</td>\n",
       "      <td>0.096737</td>\n",
       "      <td>False</td>\n",
       "      <td>False</td>\n",
       "      <td>False</td>\n",
       "      <td>False</td>\n",
       "      <td>False</td>\n",
       "    </tr>\n",
       "  </tbody>\n",
       "</table>\n",
       "</div>"
      ],
      "text/plain": [
       "          nb_eleves  pourcent_internes  nb_options  prive  pourcent_femmes  \\\n",
       "0331461J        858                0.0           7      0         0.504662   \n",
       "\n",
       "          mean_distance  pourcent_D  option_oc  option_aide  option_art  \\\n",
       "0331461J    1108.263381    0.096737      False        False       False   \n",
       "\n",
       "          option_sport  option_portugais  \n",
       "0331461J         False             False  "
      ]
     },
     "execution_count": 57,
     "metadata": {},
     "output_type": "execute_result"
    }
   ],
   "source": [
    "dataA = final_df[final_df.index == etabA]#.drop(\"pourcent_D\", axis=1)\n",
    "dataA"
   ]
  },
  {
   "cell_type": "code",
   "execution_count": 58,
   "metadata": {},
   "outputs": [
    {
     "data": {
      "text/html": [
       "<div>\n",
       "<style scoped>\n",
       "    .dataframe tbody tr th:only-of-type {\n",
       "        vertical-align: middle;\n",
       "    }\n",
       "\n",
       "    .dataframe tbody tr th {\n",
       "        vertical-align: top;\n",
       "    }\n",
       "\n",
       "    .dataframe thead th {\n",
       "        text-align: right;\n",
       "    }\n",
       "</style>\n",
       "<table border=\"1\" class=\"dataframe\">\n",
       "  <thead>\n",
       "    <tr style=\"text-align: right;\">\n",
       "      <th></th>\n",
       "      <th>nb_eleves</th>\n",
       "      <th>pourcent_internes</th>\n",
       "      <th>nb_options</th>\n",
       "      <th>prive</th>\n",
       "      <th>pourcent_femmes</th>\n",
       "      <th>mean_distance</th>\n",
       "      <th>pourcent_D</th>\n",
       "      <th>option_oc</th>\n",
       "      <th>option_aide</th>\n",
       "      <th>option_art</th>\n",
       "      <th>option_sport</th>\n",
       "      <th>option_portugais</th>\n",
       "    </tr>\n",
       "  </thead>\n",
       "  <tbody>\n",
       "    <tr>\n",
       "      <th>0330140Y</th>\n",
       "      <td>550</td>\n",
       "      <td>0.0</td>\n",
       "      <td>7</td>\n",
       "      <td>0</td>\n",
       "      <td>0.496364</td>\n",
       "      <td>1406.120209</td>\n",
       "      <td>0.461818</td>\n",
       "      <td>False</td>\n",
       "      <td>True</td>\n",
       "      <td>False</td>\n",
       "      <td>False</td>\n",
       "      <td>False</td>\n",
       "    </tr>\n",
       "  </tbody>\n",
       "</table>\n",
       "</div>"
      ],
      "text/plain": [
       "          nb_eleves  pourcent_internes  nb_options  prive  pourcent_femmes  \\\n",
       "0330140Y        550                0.0           7      0         0.496364   \n",
       "\n",
       "          mean_distance  pourcent_D  option_oc  option_aide  option_art  \\\n",
       "0330140Y    1406.120209    0.461818      False         True       False   \n",
       "\n",
       "          option_sport  option_portugais  \n",
       "0330140Y         False             False  "
      ]
     },
     "execution_count": 58,
     "metadata": {},
     "output_type": "execute_result"
    }
   ],
   "source": [
    "dataB = final_df[final_df.index == etabB]#.drop(\"pourcent_D\", axis=1)\n",
    "dataB"
   ]
  },
  {
   "cell_type": "code",
   "execution_count": 59,
   "metadata": {},
   "outputs": [
    {
     "data": {
      "text/html": [
       "<div>\n",
       "<style scoped>\n",
       "    .dataframe tbody tr th:only-of-type {\n",
       "        vertical-align: middle;\n",
       "    }\n",
       "\n",
       "    .dataframe tbody tr th {\n",
       "        vertical-align: top;\n",
       "    }\n",
       "\n",
       "    .dataframe thead th {\n",
       "        text-align: right;\n",
       "    }\n",
       "</style>\n",
       "<table border=\"1\" class=\"dataframe\">\n",
       "  <thead>\n",
       "    <tr style=\"text-align: right;\">\n",
       "      <th></th>\n",
       "      <th>nb_eleves</th>\n",
       "      <th>pourcent_internes</th>\n",
       "      <th>nb_options</th>\n",
       "      <th>prive</th>\n",
       "      <th>pourcent_femmes</th>\n",
       "      <th>mean_distance</th>\n",
       "      <th>pourcent_D</th>\n",
       "      <th>option_oc</th>\n",
       "      <th>option_aide</th>\n",
       "      <th>option_art</th>\n",
       "      <th>option_sport</th>\n",
       "      <th>option_portugais</th>\n",
       "    </tr>\n",
       "  </thead>\n",
       "  <tbody>\n",
       "    <tr>\n",
       "      <th>0332082J</th>\n",
       "      <td>440</td>\n",
       "      <td>0.0</td>\n",
       "      <td>7</td>\n",
       "      <td>0</td>\n",
       "      <td>0.459091</td>\n",
       "      <td>1169.994917</td>\n",
       "      <td>0.304545</td>\n",
       "      <td>False</td>\n",
       "      <td>False</td>\n",
       "      <td>False</td>\n",
       "      <td>True</td>\n",
       "      <td>True</td>\n",
       "    </tr>\n",
       "  </tbody>\n",
       "</table>\n",
       "</div>"
      ],
      "text/plain": [
       "          nb_eleves  pourcent_internes  nb_options  prive  pourcent_femmes  \\\n",
       "0332082J        440                0.0           7      0         0.459091   \n",
       "\n",
       "          mean_distance  pourcent_D  option_oc  option_aide  option_art  \\\n",
       "0332082J    1169.994917    0.304545      False        False       False   \n",
       "\n",
       "          option_sport  option_portugais  \n",
       "0332082J          True              True  "
      ]
     },
     "execution_count": 59,
     "metadata": {},
     "output_type": "execute_result"
    }
   ],
   "source": [
    "dataC = final_df[final_df.index == etabC]#.drop(\"pourcent_D\", axis=1)\n",
    "dataC"
   ]
  },
  {
   "cell_type": "code",
   "execution_count": 500,
   "metadata": {},
   "outputs": [],
   "source": [
    "dataA[\"option_oc\"] = 0\n",
    "#dataA[\"option_aide\"] = 0\n",
    "dataA[\"option_art\"] = 0\n",
    "dataA[\"option_sport\"] = 0\n",
    "dataA[\"option_portugais\"] = 0"
   ]
  },
  {
   "cell_type": "code",
   "execution_count": 609,
   "metadata": {},
   "outputs": [],
   "source": [
    "dataB[\"option_oc\"] = 0\n",
    "#dataB[\"option_aide\"] = 1\n",
    "dataB[\"option_art\"] = 0\n",
    "dataB[\"option_sport\"] = 0\n",
    "dataB[\"option_portugais\"] = 0"
   ]
  },
  {
   "cell_type": "code",
   "execution_count": 614,
   "metadata": {},
   "outputs": [],
   "source": [
    "dataC[\"option_oc\"] = 0\n",
    "#dataC[\"option_aide\"] = 0\n",
    "dataC[\"option_art\"] = 0\n",
    "dataC[\"option_sport\"] = 0\n",
    "dataC[\"option_portugais\"] = 0"
   ]
  },
  {
   "cell_type": "code",
   "execution_count": 611,
   "metadata": {},
   "outputs": [
    {
     "data": {
      "text/plain": [
       "array([0.16918472])"
      ]
     },
     "execution_count": 611,
     "metadata": {},
     "output_type": "execute_result"
    }
   ],
   "source": [
    "regr.predict(dataA)"
   ]
  },
  {
   "cell_type": "code",
   "execution_count": 612,
   "metadata": {},
   "outputs": [
    {
     "data": {
      "text/plain": [
       "array([0.41930594])"
      ]
     },
     "execution_count": 612,
     "metadata": {},
     "output_type": "execute_result"
    }
   ],
   "source": [
    "regr.predict(dataB)"
   ]
  },
  {
   "cell_type": "code",
   "execution_count": 615,
   "metadata": {},
   "outputs": [
    {
     "data": {
      "text/plain": [
       "array([0.2511063])"
      ]
     },
     "execution_count": 615,
     "metadata": {},
     "output_type": "execute_result"
    }
   ],
   "source": [
    "regr.predict(dataC)"
   ]
  },
  {
   "cell_type": "code",
   "execution_count": null,
   "metadata": {},
   "outputs": [],
   "source": [
    "etabA = \"0331461J\"\n",
    "etabB = \"0330140Y\"\n",
    "etabC = \"0332082J\""
   ]
  }
 ],
 "metadata": {
  "kernelspec": {
   "display_name": "Python 3",
   "language": "python",
   "name": "python3"
  },
  "language_info": {
   "codemirror_mode": {
    "name": "ipython",
    "version": 3
   },
   "file_extension": ".py",
   "mimetype": "text/x-python",
   "name": "python",
   "nbconvert_exporter": "python",
   "pygments_lexer": "ipython3",
   "version": "3.6.6"
  }
 },
 "nbformat": 4,
 "nbformat_minor": 2
}
