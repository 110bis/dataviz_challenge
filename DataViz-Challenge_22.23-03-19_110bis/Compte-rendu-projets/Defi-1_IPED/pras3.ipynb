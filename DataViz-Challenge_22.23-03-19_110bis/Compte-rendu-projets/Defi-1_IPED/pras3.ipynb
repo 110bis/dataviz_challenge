{
 "cells": [
  {
   "cell_type": "code",
   "execution_count": 1,
   "metadata": {},
   "outputs": [],
   "source": [
    "import pandas as pd\n",
    "import csv\n",
    "import numpy as np\n",
    "from geopy.geocoders import Nominatim\n",
    "from geopy.distance import geodesic\n",
    "from pyproj import Proj, transform"
   ]
  },
  {
   "cell_type": "code",
   "execution_count": 2,
   "metadata": {},
   "outputs": [],
   "source": [
    "df_nonan = pd.read_csv(\"df_nonan.csv\") "
   ]
  },
  {
   "cell_type": "code",
   "execution_count": 3,
   "metadata": {},
   "outputs": [
    {
     "data": {
      "text/html": [
       "<div>\n",
       "<style scoped>\n",
       "    .dataframe tbody tr th:only-of-type {\n",
       "        vertical-align: middle;\n",
       "    }\n",
       "\n",
       "    .dataframe tbody tr th {\n",
       "        vertical-align: top;\n",
       "    }\n",
       "\n",
       "    .dataframe thead th {\n",
       "        text-align: right;\n",
       "    }\n",
       "</style>\n",
       "<table border=\"1\" class=\"dataframe\">\n",
       "  <thead>\n",
       "    <tr style=\"text-align: right;\">\n",
       "      <th></th>\n",
       "      <th>etablissement</th>\n",
       "      <th>id_groupe</th>\n",
       "      <th>division_groupe</th>\n",
       "      <th>discipline_poste</th>\n",
       "      <th>n_heures_class</th>\n",
       "      <th>id_matiere</th>\n",
       "      <th>grade_prof</th>\n",
       "      <th>discipline_recrutement</th>\n",
       "      <th>commune_domicile_prof</th>\n",
       "      <th>id_prof</th>\n",
       "      <th>secteur</th>\n",
       "      <th>latitude_school</th>\n",
       "      <th>longitude_school</th>\n",
       "      <th>latitude_prof</th>\n",
       "      <th>longitude_prof</th>\n",
       "      <th>distance_prof_est</th>\n",
       "    </tr>\n",
       "  </thead>\n",
       "  <tbody>\n",
       "    <tr>\n",
       "      <th>0</th>\n",
       "      <td>0240001W</td>\n",
       "      <td>3A</td>\n",
       "      <td>D</td>\n",
       "      <td>L1800</td>\n",
       "      <td>1.0</td>\n",
       "      <td>90100</td>\n",
       "      <td>5512.0</td>\n",
       "      <td>1800A</td>\n",
       "      <td>24181.0</td>\n",
       "      <td>538.0</td>\n",
       "      <td>PU</td>\n",
       "      <td>44.764221</td>\n",
       "      <td>0.766679</td>\n",
       "      <td>44.748385</td>\n",
       "      <td>0.440531</td>\n",
       "      <td>36106.642647</td>\n",
       "    </tr>\n",
       "    <tr>\n",
       "      <th>1</th>\n",
       "      <td>0240001W</td>\n",
       "      <td>3A</td>\n",
       "      <td>D</td>\n",
       "      <td>L1700</td>\n",
       "      <td>1.0</td>\n",
       "      <td>81300</td>\n",
       "      <td>5531.0</td>\n",
       "      <td>1700E</td>\n",
       "      <td>24037.0</td>\n",
       "      <td>1654.0</td>\n",
       "      <td>PU</td>\n",
       "      <td>44.764221</td>\n",
       "      <td>0.766679</td>\n",
       "      <td>44.851653</td>\n",
       "      <td>0.471473</td>\n",
       "      <td>34062.153677</td>\n",
       "    </tr>\n",
       "    <tr>\n",
       "      <th>2</th>\n",
       "      <td>0240001W</td>\n",
       "      <td>3A</td>\n",
       "      <td>D</td>\n",
       "      <td>L0426</td>\n",
       "      <td>2.5</td>\n",
       "      <td>30602</td>\n",
       "      <td>5531.0</td>\n",
       "      <td>0426E</td>\n",
       "      <td>24140.0</td>\n",
       "      <td>8628.0</td>\n",
       "      <td>PU</td>\n",
       "      <td>44.764221</td>\n",
       "      <td>0.766679</td>\n",
       "      <td>44.840611</td>\n",
       "      <td>0.554938</td>\n",
       "      <td>24909.440638</td>\n",
       "    </tr>\n",
       "    <tr>\n",
       "      <th>3</th>\n",
       "      <td>0240001W</td>\n",
       "      <td>3A</td>\n",
       "      <td>D</td>\n",
       "      <td>L1300</td>\n",
       "      <td>3.0</td>\n",
       "      <td>61300</td>\n",
       "      <td>5531.0</td>\n",
       "      <td>1300E</td>\n",
       "      <td>24566.0</td>\n",
       "      <td>10176.0</td>\n",
       "      <td>PU</td>\n",
       "      <td>44.764221</td>\n",
       "      <td>0.766679</td>\n",
       "      <td>44.826831</td>\n",
       "      <td>0.686749</td>\n",
       "      <td>11255.365119</td>\n",
       "    </tr>\n",
       "    <tr>\n",
       "      <th>4</th>\n",
       "      <td>0240001W</td>\n",
       "      <td>3A</td>\n",
       "      <td>D</td>\n",
       "      <td>L1900</td>\n",
       "      <td>3.0</td>\n",
       "      <td>100100</td>\n",
       "      <td>5311.0</td>\n",
       "      <td>1900E</td>\n",
       "      <td>24037.0</td>\n",
       "      <td>10867.0</td>\n",
       "      <td>PU</td>\n",
       "      <td>44.764221</td>\n",
       "      <td>0.766679</td>\n",
       "      <td>44.851695</td>\n",
       "      <td>0.493106</td>\n",
       "      <td>31778.600158</td>\n",
       "    </tr>\n",
       "  </tbody>\n",
       "</table>\n",
       "</div>"
      ],
      "text/plain": [
       "  etablissement id_groupe division_groupe discipline_poste  n_heures_class  \\\n",
       "0      0240001W        3A               D            L1800             1.0   \n",
       "1      0240001W        3A               D            L1700             1.0   \n",
       "2      0240001W        3A               D            L0426             2.5   \n",
       "3      0240001W        3A               D            L1300             3.0   \n",
       "4      0240001W        3A               D            L1900             3.0   \n",
       "\n",
       "   id_matiere  grade_prof discipline_recrutement  commune_domicile_prof  \\\n",
       "0       90100      5512.0                  1800A                24181.0   \n",
       "1       81300      5531.0                  1700E                24037.0   \n",
       "2       30602      5531.0                  0426E                24140.0   \n",
       "3       61300      5531.0                  1300E                24566.0   \n",
       "4      100100      5311.0                  1900E                24037.0   \n",
       "\n",
       "   id_prof secteur  latitude_school  longitude_school  latitude_prof  \\\n",
       "0    538.0      PU        44.764221          0.766679      44.748385   \n",
       "1   1654.0      PU        44.764221          0.766679      44.851653   \n",
       "2   8628.0      PU        44.764221          0.766679      44.840611   \n",
       "3  10176.0      PU        44.764221          0.766679      44.826831   \n",
       "4  10867.0      PU        44.764221          0.766679      44.851695   \n",
       "\n",
       "   longitude_prof  distance_prof_est  \n",
       "0        0.440531       36106.642647  \n",
       "1        0.471473       34062.153677  \n",
       "2        0.554938       24909.440638  \n",
       "3        0.686749       11255.365119  \n",
       "4        0.493106       31778.600158  "
      ]
     },
     "execution_count": 3,
     "metadata": {},
     "output_type": "execute_result"
    }
   ],
   "source": [
    "df_nonan.head()"
   ]
  },
  {
   "cell_type": "code",
   "execution_count": 13,
   "metadata": {},
   "outputs": [
    {
     "data": {
      "text/html": [
       "<div>\n",
       "<style scoped>\n",
       "    .dataframe tbody tr th:only-of-type {\n",
       "        vertical-align: middle;\n",
       "    }\n",
       "\n",
       "    .dataframe tbody tr th {\n",
       "        vertical-align: top;\n",
       "    }\n",
       "\n",
       "    .dataframe thead th {\n",
       "        text-align: right;\n",
       "    }\n",
       "</style>\n",
       "<table border=\"1\" class=\"dataframe\">\n",
       "  <thead>\n",
       "    <tr style=\"text-align: right;\">\n",
       "      <th></th>\n",
       "      <th>id</th>\n",
       "      <th>latitude</th>\n",
       "      <th>longitude</th>\n",
       "    </tr>\n",
       "  </thead>\n",
       "  <tbody>\n",
       "    <tr>\n",
       "      <th>0</th>\n",
       "      <td>538.0</td>\n",
       "      <td>44.748385</td>\n",
       "      <td>0.440531</td>\n",
       "    </tr>\n",
       "    <tr>\n",
       "      <th>1</th>\n",
       "      <td>1654.0</td>\n",
       "      <td>44.851653</td>\n",
       "      <td>0.471473</td>\n",
       "    </tr>\n",
       "    <tr>\n",
       "      <th>2</th>\n",
       "      <td>8628.0</td>\n",
       "      <td>44.840611</td>\n",
       "      <td>0.554938</td>\n",
       "    </tr>\n",
       "    <tr>\n",
       "      <th>3</th>\n",
       "      <td>10176.0</td>\n",
       "      <td>44.826831</td>\n",
       "      <td>0.686749</td>\n",
       "    </tr>\n",
       "    <tr>\n",
       "      <th>4</th>\n",
       "      <td>10867.0</td>\n",
       "      <td>44.851695</td>\n",
       "      <td>0.493106</td>\n",
       "    </tr>\n",
       "  </tbody>\n",
       "</table>\n",
       "</div>"
      ],
      "text/plain": [
       "        id   latitude  longitude\n",
       "0    538.0  44.748385   0.440531\n",
       "1   1654.0  44.851653   0.471473\n",
       "2   8628.0  44.840611   0.554938\n",
       "3  10176.0  44.826831   0.686749\n",
       "4  10867.0  44.851695   0.493106"
      ]
     },
     "execution_count": 13,
     "metadata": {},
     "output_type": "execute_result"
    }
   ],
   "source": [
    "df_nonan_prof = df_nonan[['id_prof','latitude_prof','longitude_prof']]\n",
    "df_nonan_prof.columns = ['id', 'latitude', 'longitude']\n",
    "df_nonan_prof2 = df_nonan_prof.drop_duplicates()\n",
    "df_nonan_prof.head()"
   ]
  },
  {
   "cell_type": "code",
   "execution_count": 14,
   "metadata": {},
   "outputs": [
    {
     "data": {
      "text/plain": [
       "19895"
      ]
     },
     "execution_count": 14,
     "metadata": {},
     "output_type": "execute_result"
    }
   ],
   "source": [
    "len(df_nonan_prof2)"
   ]
  },
  {
   "cell_type": "code",
   "execution_count": 15,
   "metadata": {},
   "outputs": [],
   "source": [
    "df_nonan_prof2.to_csv('prof_coordinates.csv')"
   ]
  },
  {
   "cell_type": "code",
   "execution_count": 16,
   "metadata": {},
   "outputs": [],
   "source": [
    "df_prof_coordinates = pd.read_csv(\"prof_coordinates.csv\") "
   ]
  },
  {
   "cell_type": "code",
   "execution_count": 17,
   "metadata": {},
   "outputs": [
    {
     "data": {
      "text/plain": [
       "19895"
      ]
     },
     "execution_count": 17,
     "metadata": {},
     "output_type": "execute_result"
    }
   ],
   "source": [
    "len(df_prof_coordinates)"
   ]
  },
  {
   "cell_type": "code",
   "execution_count": 18,
   "metadata": {},
   "outputs": [
    {
     "data": {
      "text/html": [
       "<div>\n",
       "<style scoped>\n",
       "    .dataframe tbody tr th:only-of-type {\n",
       "        vertical-align: middle;\n",
       "    }\n",
       "\n",
       "    .dataframe tbody tr th {\n",
       "        vertical-align: top;\n",
       "    }\n",
       "\n",
       "    .dataframe thead th {\n",
       "        text-align: right;\n",
       "    }\n",
       "</style>\n",
       "<table border=\"1\" class=\"dataframe\">\n",
       "  <thead>\n",
       "    <tr style=\"text-align: right;\">\n",
       "      <th></th>\n",
       "      <th>Unnamed: 0</th>\n",
       "      <th>id</th>\n",
       "      <th>latitude</th>\n",
       "      <th>longitude</th>\n",
       "    </tr>\n",
       "  </thead>\n",
       "  <tbody>\n",
       "    <tr>\n",
       "      <th>0</th>\n",
       "      <td>0</td>\n",
       "      <td>538.0</td>\n",
       "      <td>44.748385</td>\n",
       "      <td>0.440531</td>\n",
       "    </tr>\n",
       "    <tr>\n",
       "      <th>1</th>\n",
       "      <td>1</td>\n",
       "      <td>1654.0</td>\n",
       "      <td>44.851653</td>\n",
       "      <td>0.471473</td>\n",
       "    </tr>\n",
       "    <tr>\n",
       "      <th>2</th>\n",
       "      <td>2</td>\n",
       "      <td>8628.0</td>\n",
       "      <td>44.840611</td>\n",
       "      <td>0.554938</td>\n",
       "    </tr>\n",
       "    <tr>\n",
       "      <th>3</th>\n",
       "      <td>3</td>\n",
       "      <td>10176.0</td>\n",
       "      <td>44.826831</td>\n",
       "      <td>0.686749</td>\n",
       "    </tr>\n",
       "    <tr>\n",
       "      <th>4</th>\n",
       "      <td>4</td>\n",
       "      <td>10867.0</td>\n",
       "      <td>44.851695</td>\n",
       "      <td>0.493106</td>\n",
       "    </tr>\n",
       "  </tbody>\n",
       "</table>\n",
       "</div>"
      ],
      "text/plain": [
       "   Unnamed: 0       id   latitude  longitude\n",
       "0           0    538.0  44.748385   0.440531\n",
       "1           1   1654.0  44.851653   0.471473\n",
       "2           2   8628.0  44.840611   0.554938\n",
       "3           3  10176.0  44.826831   0.686749\n",
       "4           4  10867.0  44.851695   0.493106"
      ]
     },
     "execution_count": 18,
     "metadata": {},
     "output_type": "execute_result"
    }
   ],
   "source": [
    "df_prof_coordinates.head()"
   ]
  },
  {
   "cell_type": "code",
   "execution_count": 19,
   "metadata": {},
   "outputs": [],
   "source": [
    "df_prof_coordinates['type_of_entity'] = 0"
   ]
  },
  {
   "cell_type": "code",
   "execution_count": 20,
   "metadata": {},
   "outputs": [
    {
     "data": {
      "text/html": [
       "<div>\n",
       "<style scoped>\n",
       "    .dataframe tbody tr th:only-of-type {\n",
       "        vertical-align: middle;\n",
       "    }\n",
       "\n",
       "    .dataframe tbody tr th {\n",
       "        vertical-align: top;\n",
       "    }\n",
       "\n",
       "    .dataframe thead th {\n",
       "        text-align: right;\n",
       "    }\n",
       "</style>\n",
       "<table border=\"1\" class=\"dataframe\">\n",
       "  <thead>\n",
       "    <tr style=\"text-align: right;\">\n",
       "      <th></th>\n",
       "      <th>Unnamed: 0</th>\n",
       "      <th>id</th>\n",
       "      <th>latitude</th>\n",
       "      <th>longitude</th>\n",
       "      <th>type_of_entity</th>\n",
       "    </tr>\n",
       "  </thead>\n",
       "  <tbody>\n",
       "    <tr>\n",
       "      <th>0</th>\n",
       "      <td>0</td>\n",
       "      <td>538.0</td>\n",
       "      <td>44.748385</td>\n",
       "      <td>0.440531</td>\n",
       "      <td>0</td>\n",
       "    </tr>\n",
       "    <tr>\n",
       "      <th>1</th>\n",
       "      <td>1</td>\n",
       "      <td>1654.0</td>\n",
       "      <td>44.851653</td>\n",
       "      <td>0.471473</td>\n",
       "      <td>0</td>\n",
       "    </tr>\n",
       "    <tr>\n",
       "      <th>2</th>\n",
       "      <td>2</td>\n",
       "      <td>8628.0</td>\n",
       "      <td>44.840611</td>\n",
       "      <td>0.554938</td>\n",
       "      <td>0</td>\n",
       "    </tr>\n",
       "    <tr>\n",
       "      <th>3</th>\n",
       "      <td>3</td>\n",
       "      <td>10176.0</td>\n",
       "      <td>44.826831</td>\n",
       "      <td>0.686749</td>\n",
       "      <td>0</td>\n",
       "    </tr>\n",
       "    <tr>\n",
       "      <th>4</th>\n",
       "      <td>4</td>\n",
       "      <td>10867.0</td>\n",
       "      <td>44.851695</td>\n",
       "      <td>0.493106</td>\n",
       "      <td>0</td>\n",
       "    </tr>\n",
       "  </tbody>\n",
       "</table>\n",
       "</div>"
      ],
      "text/plain": [
       "   Unnamed: 0       id   latitude  longitude  type_of_entity\n",
       "0           0    538.0  44.748385   0.440531               0\n",
       "1           1   1654.0  44.851653   0.471473               0\n",
       "2           2   8628.0  44.840611   0.554938               0\n",
       "3           3  10176.0  44.826831   0.686749               0\n",
       "4           4  10867.0  44.851695   0.493106               0"
      ]
     },
     "execution_count": 20,
     "metadata": {},
     "output_type": "execute_result"
    }
   ],
   "source": [
    "df_prof_coordinates.head()"
   ]
  },
  {
   "cell_type": "code",
   "execution_count": 21,
   "metadata": {},
   "outputs": [
    {
     "data": {
      "text/plain": [
       "19895"
      ]
     },
     "execution_count": 21,
     "metadata": {},
     "output_type": "execute_result"
    }
   ],
   "source": [
    "len(df_prof_coordinates)"
   ]
  },
  {
   "cell_type": "code",
   "execution_count": 22,
   "metadata": {},
   "outputs": [
    {
     "data": {
      "text/html": [
       "<div>\n",
       "<style scoped>\n",
       "    .dataframe tbody tr th:only-of-type {\n",
       "        vertical-align: middle;\n",
       "    }\n",
       "\n",
       "    .dataframe tbody tr th {\n",
       "        vertical-align: top;\n",
       "    }\n",
       "\n",
       "    .dataframe thead th {\n",
       "        text-align: right;\n",
       "    }\n",
       "</style>\n",
       "<table border=\"1\" class=\"dataframe\">\n",
       "  <thead>\n",
       "    <tr style=\"text-align: right;\">\n",
       "      <th></th>\n",
       "      <th>id</th>\n",
       "      <th>latitude</th>\n",
       "      <th>longitude</th>\n",
       "    </tr>\n",
       "  </thead>\n",
       "  <tbody>\n",
       "    <tr>\n",
       "      <th>0</th>\n",
       "      <td>0240001W</td>\n",
       "      <td>44.764221</td>\n",
       "      <td>0.766679</td>\n",
       "    </tr>\n",
       "    <tr>\n",
       "      <th>184</th>\n",
       "      <td>0240004Z</td>\n",
       "      <td>44.851854</td>\n",
       "      <td>0.488827</td>\n",
       "    </tr>\n",
       "    <tr>\n",
       "      <th>402</th>\n",
       "      <td>0240005A</td>\n",
       "      <td>44.857297</td>\n",
       "      <td>0.474161</td>\n",
       "    </tr>\n",
       "    <tr>\n",
       "      <th>1713</th>\n",
       "      <td>0240006B</td>\n",
       "      <td>44.853810</td>\n",
       "      <td>0.494293</td>\n",
       "    </tr>\n",
       "    <tr>\n",
       "      <th>2043</th>\n",
       "      <td>0240007C</td>\n",
       "      <td>44.843420</td>\n",
       "      <td>0.475149</td>\n",
       "    </tr>\n",
       "  </tbody>\n",
       "</table>\n",
       "</div>"
      ],
      "text/plain": [
       "            id   latitude  longitude\n",
       "0     0240001W  44.764221   0.766679\n",
       "184   0240004Z  44.851854   0.488827\n",
       "402   0240005A  44.857297   0.474161\n",
       "1713  0240006B  44.853810   0.494293\n",
       "2043  0240007C  44.843420   0.475149"
      ]
     },
     "execution_count": 22,
     "metadata": {},
     "output_type": "execute_result"
    }
   ],
   "source": [
    "df_schools_coordinates = df_nonan[['etablissement','latitude_school','longitude_school']]\n",
    "df_schools_coordinates.columns = ['id', 'latitude', 'longitude']\n",
    "df_schools_coordinates2 = df_schools_coordinates.drop_duplicates()\n",
    "df_schools_coordinates2.head()"
   ]
  },
  {
   "cell_type": "code",
   "execution_count": 23,
   "metadata": {},
   "outputs": [
    {
     "data": {
      "text/plain": [
       "546"
      ]
     },
     "execution_count": 23,
     "metadata": {},
     "output_type": "execute_result"
    }
   ],
   "source": [
    "len(df_schools_coordinates2)"
   ]
  },
  {
   "cell_type": "code",
   "execution_count": 24,
   "metadata": {},
   "outputs": [
    {
     "name": "stderr",
     "output_type": "stream",
     "text": [
      "C:\\Users\\Leropc\\Anaconda3\\lib\\site-packages\\ipykernel_launcher.py:1: SettingWithCopyWarning: \n",
      "A value is trying to be set on a copy of a slice from a DataFrame.\n",
      "Try using .loc[row_indexer,col_indexer] = value instead\n",
      "\n",
      "See the caveats in the documentation: http://pandas.pydata.org/pandas-docs/stable/indexing.html#indexing-view-versus-copy\n",
      "  \"\"\"Entry point for launching an IPython kernel.\n"
     ]
    }
   ],
   "source": [
    "df_schools_coordinates2['type_of_entity'] = 1"
   ]
  },
  {
   "cell_type": "code",
   "execution_count": 25,
   "metadata": {},
   "outputs": [
    {
     "data": {
      "text/html": [
       "<div>\n",
       "<style scoped>\n",
       "    .dataframe tbody tr th:only-of-type {\n",
       "        vertical-align: middle;\n",
       "    }\n",
       "\n",
       "    .dataframe tbody tr th {\n",
       "        vertical-align: top;\n",
       "    }\n",
       "\n",
       "    .dataframe thead th {\n",
       "        text-align: right;\n",
       "    }\n",
       "</style>\n",
       "<table border=\"1\" class=\"dataframe\">\n",
       "  <thead>\n",
       "    <tr style=\"text-align: right;\">\n",
       "      <th></th>\n",
       "      <th>id</th>\n",
       "      <th>latitude</th>\n",
       "      <th>longitude</th>\n",
       "      <th>type_of_entity</th>\n",
       "    </tr>\n",
       "  </thead>\n",
       "  <tbody>\n",
       "    <tr>\n",
       "      <th>0</th>\n",
       "      <td>0240001W</td>\n",
       "      <td>44.764221</td>\n",
       "      <td>0.766679</td>\n",
       "      <td>1</td>\n",
       "    </tr>\n",
       "    <tr>\n",
       "      <th>184</th>\n",
       "      <td>0240004Z</td>\n",
       "      <td>44.851854</td>\n",
       "      <td>0.488827</td>\n",
       "      <td>1</td>\n",
       "    </tr>\n",
       "    <tr>\n",
       "      <th>402</th>\n",
       "      <td>0240005A</td>\n",
       "      <td>44.857297</td>\n",
       "      <td>0.474161</td>\n",
       "      <td>1</td>\n",
       "    </tr>\n",
       "    <tr>\n",
       "      <th>1713</th>\n",
       "      <td>0240006B</td>\n",
       "      <td>44.853810</td>\n",
       "      <td>0.494293</td>\n",
       "      <td>1</td>\n",
       "    </tr>\n",
       "    <tr>\n",
       "      <th>2043</th>\n",
       "      <td>0240007C</td>\n",
       "      <td>44.843420</td>\n",
       "      <td>0.475149</td>\n",
       "      <td>1</td>\n",
       "    </tr>\n",
       "  </tbody>\n",
       "</table>\n",
       "</div>"
      ],
      "text/plain": [
       "            id   latitude  longitude  type_of_entity\n",
       "0     0240001W  44.764221   0.766679               1\n",
       "184   0240004Z  44.851854   0.488827               1\n",
       "402   0240005A  44.857297   0.474161               1\n",
       "1713  0240006B  44.853810   0.494293               1\n",
       "2043  0240007C  44.843420   0.475149               1"
      ]
     },
     "execution_count": 25,
     "metadata": {},
     "output_type": "execute_result"
    }
   ],
   "source": [
    "df_schools_coordinates2.head()"
   ]
  },
  {
   "cell_type": "code",
   "execution_count": 26,
   "metadata": {},
   "outputs": [
    {
     "name": "stderr",
     "output_type": "stream",
     "text": [
      "C:\\Users\\Leropc\\Anaconda3\\lib\\site-packages\\ipykernel_launcher.py:1: FutureWarning: Sorting because non-concatenation axis is not aligned. A future version\n",
      "of pandas will change to not sort by default.\n",
      "\n",
      "To accept the future behavior, pass 'sort=False'.\n",
      "\n",
      "To retain the current behavior and silence the warning, pass 'sort=True'.\n",
      "\n",
      "  \"\"\"Entry point for launching an IPython kernel.\n"
     ]
    }
   ],
   "source": [
    "df_coordinates_school_teachers = pd.concat([df_prof_coordinates,df_schools_coordinates2], axis=0)"
   ]
  },
  {
   "cell_type": "code",
   "execution_count": 27,
   "metadata": {},
   "outputs": [
    {
     "data": {
      "text/html": [
       "<div>\n",
       "<style scoped>\n",
       "    .dataframe tbody tr th:only-of-type {\n",
       "        vertical-align: middle;\n",
       "    }\n",
       "\n",
       "    .dataframe tbody tr th {\n",
       "        vertical-align: top;\n",
       "    }\n",
       "\n",
       "    .dataframe thead th {\n",
       "        text-align: right;\n",
       "    }\n",
       "</style>\n",
       "<table border=\"1\" class=\"dataframe\">\n",
       "  <thead>\n",
       "    <tr style=\"text-align: right;\">\n",
       "      <th></th>\n",
       "      <th>Unnamed: 0</th>\n",
       "      <th>id</th>\n",
       "      <th>latitude</th>\n",
       "      <th>longitude</th>\n",
       "      <th>type_of_entity</th>\n",
       "    </tr>\n",
       "  </thead>\n",
       "  <tbody>\n",
       "    <tr>\n",
       "      <th>0</th>\n",
       "      <td>0.0</td>\n",
       "      <td>538</td>\n",
       "      <td>44.748385</td>\n",
       "      <td>0.440531</td>\n",
       "      <td>0</td>\n",
       "    </tr>\n",
       "    <tr>\n",
       "      <th>1</th>\n",
       "      <td>1.0</td>\n",
       "      <td>1654</td>\n",
       "      <td>44.851653</td>\n",
       "      <td>0.471473</td>\n",
       "      <td>0</td>\n",
       "    </tr>\n",
       "    <tr>\n",
       "      <th>2</th>\n",
       "      <td>2.0</td>\n",
       "      <td>8628</td>\n",
       "      <td>44.840611</td>\n",
       "      <td>0.554938</td>\n",
       "      <td>0</td>\n",
       "    </tr>\n",
       "    <tr>\n",
       "      <th>3</th>\n",
       "      <td>3.0</td>\n",
       "      <td>10176</td>\n",
       "      <td>44.826831</td>\n",
       "      <td>0.686749</td>\n",
       "      <td>0</td>\n",
       "    </tr>\n",
       "    <tr>\n",
       "      <th>4</th>\n",
       "      <td>4.0</td>\n",
       "      <td>10867</td>\n",
       "      <td>44.851695</td>\n",
       "      <td>0.493106</td>\n",
       "      <td>0</td>\n",
       "    </tr>\n",
       "  </tbody>\n",
       "</table>\n",
       "</div>"
      ],
      "text/plain": [
       "   Unnamed: 0     id   latitude  longitude  type_of_entity\n",
       "0         0.0    538  44.748385   0.440531               0\n",
       "1         1.0   1654  44.851653   0.471473               0\n",
       "2         2.0   8628  44.840611   0.554938               0\n",
       "3         3.0  10176  44.826831   0.686749               0\n",
       "4         4.0  10867  44.851695   0.493106               0"
      ]
     },
     "execution_count": 27,
     "metadata": {},
     "output_type": "execute_result"
    }
   ],
   "source": [
    "df_coordinates_school_teachers.head()"
   ]
  },
  {
   "cell_type": "code",
   "execution_count": 28,
   "metadata": {},
   "outputs": [
    {
     "data": {
      "text/html": [
       "<div>\n",
       "<style scoped>\n",
       "    .dataframe tbody tr th:only-of-type {\n",
       "        vertical-align: middle;\n",
       "    }\n",
       "\n",
       "    .dataframe tbody tr th {\n",
       "        vertical-align: top;\n",
       "    }\n",
       "\n",
       "    .dataframe thead th {\n",
       "        text-align: right;\n",
       "    }\n",
       "</style>\n",
       "<table border=\"1\" class=\"dataframe\">\n",
       "  <thead>\n",
       "    <tr style=\"text-align: right;\">\n",
       "      <th></th>\n",
       "      <th>Unnamed: 0</th>\n",
       "      <th>id</th>\n",
       "      <th>latitude</th>\n",
       "      <th>longitude</th>\n",
       "      <th>type_of_entity</th>\n",
       "    </tr>\n",
       "  </thead>\n",
       "  <tbody>\n",
       "    <tr>\n",
       "      <th>187442</th>\n",
       "      <td>NaN</td>\n",
       "      <td>0642010M</td>\n",
       "      <td>43.358124</td>\n",
       "      <td>-0.793749</td>\n",
       "      <td>1</td>\n",
       "    </tr>\n",
       "    <tr>\n",
       "      <th>187489</th>\n",
       "      <td>NaN</td>\n",
       "      <td>0642011N</td>\n",
       "      <td>43.317070</td>\n",
       "      <td>-0.355441</td>\n",
       "      <td>1</td>\n",
       "    </tr>\n",
       "    <tr>\n",
       "      <th>187549</th>\n",
       "      <td>NaN</td>\n",
       "      <td>0642038T</td>\n",
       "      <td>43.472770</td>\n",
       "      <td>-1.442688</td>\n",
       "      <td>1</td>\n",
       "    </tr>\n",
       "    <tr>\n",
       "      <th>187983</th>\n",
       "      <td>NaN</td>\n",
       "      <td>0642095E</td>\n",
       "      <td>43.305363</td>\n",
       "      <td>-0.361226</td>\n",
       "      <td>1</td>\n",
       "    </tr>\n",
       "    <tr>\n",
       "      <th>188090</th>\n",
       "      <td>NaN</td>\n",
       "      <td>0642114A</td>\n",
       "      <td>43.498166</td>\n",
       "      <td>-1.457853</td>\n",
       "      <td>1</td>\n",
       "    </tr>\n",
       "  </tbody>\n",
       "</table>\n",
       "</div>"
      ],
      "text/plain": [
       "        Unnamed: 0        id   latitude  longitude  type_of_entity\n",
       "187442         NaN  0642010M  43.358124  -0.793749               1\n",
       "187489         NaN  0642011N  43.317070  -0.355441               1\n",
       "187549         NaN  0642038T  43.472770  -1.442688               1\n",
       "187983         NaN  0642095E  43.305363  -0.361226               1\n",
       "188090         NaN  0642114A  43.498166  -1.457853               1"
      ]
     },
     "execution_count": 28,
     "metadata": {},
     "output_type": "execute_result"
    }
   ],
   "source": [
    "df_coordinates_school_teachers.tail()"
   ]
  },
  {
   "cell_type": "code",
   "execution_count": 29,
   "metadata": {},
   "outputs": [],
   "source": [
    "df_coordinates_school_teachers.to_csv('schools_teachers_coord.csv')"
   ]
  },
  {
   "cell_type": "code",
   "execution_count": null,
   "metadata": {},
   "outputs": [],
   "source": []
  }
 ],
 "metadata": {
  "kernelspec": {
   "display_name": "Python 3",
   "language": "python",
   "name": "python3"
  },
  "language_info": {
   "codemirror_mode": {
    "name": "ipython",
    "version": 3
   },
   "file_extension": ".py",
   "mimetype": "text/x-python",
   "name": "python",
   "nbconvert_exporter": "python",
   "pygments_lexer": "ipython3",
   "version": "3.7.1"
  }
 },
 "nbformat": 4,
 "nbformat_minor": 2
}
