{
 "cells": [
  {
   "cell_type": "code",
   "execution_count": 17,
   "metadata": {},
   "outputs": [],
   "source": [
    "import numpy as np\n",
    "import pandas as pd\n",
    "import matplotlib.pyplot as plt\n",
    "import seaborn as sns"
   ]
  },
  {
   "cell_type": "markdown",
   "metadata": {},
   "source": [
    "## Dataframe COURS"
   ]
  },
  {
   "cell_type": "code",
   "execution_count": 12,
   "metadata": {},
   "outputs": [],
   "source": [
    "columns_ = ['etablissement','id_groupe', 'division_groupe', 'discipline_poste', 'n_heures_class', 'id_matiere', 'grade_prof', \n",
    "            'discipline_recrutement', 'commune_domicile_prof', 'X_prof', 'Y_prof', 'id_prof', 'secteur']\n",
    "df = pd.read_csv('cours.csv', names=columns_, header=None, skiprows=1)"
   ]
  },
  {
   "cell_type": "code",
   "execution_count": 13,
   "metadata": {},
   "outputs": [],
   "source": [
    "df['id_prof'] = df['id_prof'].astype(str)\n",
    "df['commune_domicile_prof'] = df['commune_domicile_prof'].astype(str)\n",
    "df['id_matiere'] = df['id_matiere'].astype(str)\n",
    "df['grade_prof'] = df['grade_prof'].astype(str)"
   ]
  },
  {
   "cell_type": "code",
   "execution_count": 16,
   "metadata": {},
   "outputs": [
    {
     "data": {
      "text/plain": [
       "21546"
      ]
     },
     "execution_count": 16,
     "metadata": {},
     "output_type": "execute_result"
    }
   ],
   "source": [
    "df.id_prof.nunique()"
   ]
  },
  {
   "cell_type": "markdown",
   "metadata": {},
   "source": [
    "## Dataframe ESTABLISHMENT POSITIONS"
   ]
  },
  {
   "cell_type": "code",
   "execution_count": 5,
   "metadata": {},
   "outputs": [
    {
     "data": {
      "text/plain": [
       "Index(['Code établissement', 'Appellation officielle',\n",
       "       'Dénomination principale', 'Patronyme uai', 'Secteur Public/Privé',\n",
       "       'Adresse', 'Lieu dit', 'Boite postale', 'Code postal',\n",
       "       'Localite d'acheminement', 'Commune', 'Coordonnee X', 'Coordonnee Y',\n",
       "       'EPSG', 'Latitude', 'Longitude', 'Qualité d'appariement',\n",
       "       'Localisation', 'Code nature', 'Nature', 'Code état établissement',\n",
       "       'Etat établissement', 'Code département', 'Code région',\n",
       "       'Code académie', 'Code commune', 'Département', 'Région', 'Académie',\n",
       "       'Position'],\n",
       "      dtype='object')"
      ]
     },
     "execution_count": 5,
     "metadata": {},
     "output_type": "execute_result"
    }
   ],
   "source": [
    "df_schools = pd.read_csv('schools.csv', delimiter=';')\n",
    "df_schools.columns"
   ]
  },
  {
   "cell_type": "code",
   "execution_count": 6,
   "metadata": {},
   "outputs": [
    {
     "data": {
      "text/html": [
       "<div>\n",
       "<style scoped>\n",
       "    .dataframe tbody tr th:only-of-type {\n",
       "        vertical-align: middle;\n",
       "    }\n",
       "\n",
       "    .dataframe tbody tr th {\n",
       "        vertical-align: top;\n",
       "    }\n",
       "\n",
       "    .dataframe thead th {\n",
       "        text-align: right;\n",
       "    }\n",
       "</style>\n",
       "<table border=\"1\" class=\"dataframe\">\n",
       "  <thead>\n",
       "    <tr style=\"text-align: right;\">\n",
       "      <th></th>\n",
       "      <th>etablissement</th>\n",
       "      <th>X_school</th>\n",
       "      <th>Y_school</th>\n",
       "      <th>Position</th>\n",
       "    </tr>\n",
       "  </thead>\n",
       "  <tbody>\n",
       "    <tr>\n",
       "      <th>0</th>\n",
       "      <td>0470032E</td>\n",
       "      <td>491239.9</td>\n",
       "      <td>6353793.1</td>\n",
       "      <td>44.2520429195, 0.385169774826</td>\n",
       "    </tr>\n",
       "    <tr>\n",
       "      <th>1</th>\n",
       "      <td>0470093W</td>\n",
       "      <td>474015.3</td>\n",
       "      <td>6382417.4</td>\n",
       "      <td>44.5041978894, 0.156696460324</td>\n",
       "    </tr>\n",
       "    <tr>\n",
       "      <th>2</th>\n",
       "      <td>0470721D</td>\n",
       "      <td>513657.2</td>\n",
       "      <td>6345825.4</td>\n",
       "      <td>44.1866794142, 0.6687307112</td>\n",
       "    </tr>\n",
       "    <tr>\n",
       "      <th>3</th>\n",
       "      <td>0471015Y</td>\n",
       "      <td>509905.3</td>\n",
       "      <td>6347640.0</td>\n",
       "      <td>44.2019980569, 0.621136396919</td>\n",
       "    </tr>\n",
       "    <tr>\n",
       "      <th>4</th>\n",
       "      <td>0400034V</td>\n",
       "      <td>433805.3</td>\n",
       "      <td>6331492.2</td>\n",
       "      <td>44.0320328913, -0.321725459625</td>\n",
       "    </tr>\n",
       "  </tbody>\n",
       "</table>\n",
       "</div>"
      ],
      "text/plain": [
       "  etablissement  X_school   Y_school                        Position\n",
       "0      0470032E  491239.9  6353793.1   44.2520429195, 0.385169774826\n",
       "1      0470093W  474015.3  6382417.4   44.5041978894, 0.156696460324\n",
       "2      0470721D  513657.2  6345825.4     44.1866794142, 0.6687307112\n",
       "3      0471015Y  509905.3  6347640.0   44.2019980569, 0.621136396919\n",
       "4      0400034V  433805.3  6331492.2  44.0320328913, -0.321725459625"
      ]
     },
     "execution_count": 6,
     "metadata": {},
     "output_type": "execute_result"
    }
   ],
   "source": [
    "df_schools = df_schools[['Code établissement','Coordonnee X','Coordonnee Y','Position']]\n",
    "df_schools.columns = ['etablissement', 'X_school', 'Y_school','Position']\n",
    "df_schools.drop_duplicates()\n",
    "df_schools.head()"
   ]
  },
  {
   "cell_type": "code",
   "execution_count": 7,
   "metadata": {},
   "outputs": [
    {
     "data": {
      "text/html": [
       "<div>\n",
       "<style scoped>\n",
       "    .dataframe tbody tr th:only-of-type {\n",
       "        vertical-align: middle;\n",
       "    }\n",
       "\n",
       "    .dataframe tbody tr th {\n",
       "        vertical-align: top;\n",
       "    }\n",
       "\n",
       "    .dataframe thead th {\n",
       "        text-align: right;\n",
       "    }\n",
       "</style>\n",
       "<table border=\"1\" class=\"dataframe\">\n",
       "  <thead>\n",
       "    <tr style=\"text-align: right;\">\n",
       "      <th></th>\n",
       "      <th>etablissement</th>\n",
       "      <th>X_school</th>\n",
       "      <th>Y_school</th>\n",
       "      <th>latitude_school</th>\n",
       "      <th>longitude_school</th>\n",
       "    </tr>\n",
       "  </thead>\n",
       "  <tbody>\n",
       "    <tr>\n",
       "      <th>0</th>\n",
       "      <td>0470032E</td>\n",
       "      <td>491239.9</td>\n",
       "      <td>6353793.1</td>\n",
       "      <td>44.2520429195</td>\n",
       "      <td>0.385169774826</td>\n",
       "    </tr>\n",
       "    <tr>\n",
       "      <th>1</th>\n",
       "      <td>0470093W</td>\n",
       "      <td>474015.3</td>\n",
       "      <td>6382417.4</td>\n",
       "      <td>44.5041978894</td>\n",
       "      <td>0.156696460324</td>\n",
       "    </tr>\n",
       "    <tr>\n",
       "      <th>2</th>\n",
       "      <td>0470721D</td>\n",
       "      <td>513657.2</td>\n",
       "      <td>6345825.4</td>\n",
       "      <td>44.1866794142</td>\n",
       "      <td>0.6687307112</td>\n",
       "    </tr>\n",
       "    <tr>\n",
       "      <th>3</th>\n",
       "      <td>0471015Y</td>\n",
       "      <td>509905.3</td>\n",
       "      <td>6347640.0</td>\n",
       "      <td>44.2019980569</td>\n",
       "      <td>0.621136396919</td>\n",
       "    </tr>\n",
       "    <tr>\n",
       "      <th>4</th>\n",
       "      <td>0400034V</td>\n",
       "      <td>433805.3</td>\n",
       "      <td>6331492.2</td>\n",
       "      <td>44.0320328913</td>\n",
       "      <td>-0.321725459625</td>\n",
       "    </tr>\n",
       "  </tbody>\n",
       "</table>\n",
       "</div>"
      ],
      "text/plain": [
       "  etablissement  X_school   Y_school latitude_school  longitude_school\n",
       "0      0470032E  491239.9  6353793.1   44.2520429195    0.385169774826\n",
       "1      0470093W  474015.3  6382417.4   44.5041978894    0.156696460324\n",
       "2      0470721D  513657.2  6345825.4   44.1866794142      0.6687307112\n",
       "3      0471015Y  509905.3  6347640.0   44.2019980569    0.621136396919\n",
       "4      0400034V  433805.3  6331492.2   44.0320328913   -0.321725459625"
      ]
     },
     "execution_count": 7,
     "metadata": {},
     "output_type": "execute_result"
    }
   ],
   "source": [
    "new = df_schools['Position'].str.split(\",\", n = 1, expand = True)\n",
    "df_schools['latitude_school']= new[0]\n",
    "df_schools['longitude_school']= new[1] \n",
    "df_schools.drop(columns =['Position'], inplace = True) \n",
    "df_schools.head() "
   ]
  },
  {
   "cell_type": "markdown",
   "metadata": {},
   "source": [
    "## JOIN THE DATAFRAMES"
   ]
  },
  {
   "cell_type": "code",
   "execution_count": 8,
   "metadata": {},
   "outputs": [
    {
     "data": {
      "text/html": [
       "<div>\n",
       "<style scoped>\n",
       "    .dataframe tbody tr th:only-of-type {\n",
       "        vertical-align: middle;\n",
       "    }\n",
       "\n",
       "    .dataframe tbody tr th {\n",
       "        vertical-align: top;\n",
       "    }\n",
       "\n",
       "    .dataframe thead th {\n",
       "        text-align: right;\n",
       "    }\n",
       "</style>\n",
       "<table border=\"1\" class=\"dataframe\">\n",
       "  <thead>\n",
       "    <tr style=\"text-align: right;\">\n",
       "      <th></th>\n",
       "      <th>etablissement</th>\n",
       "      <th>id_groupe</th>\n",
       "      <th>division_groupe</th>\n",
       "      <th>discipline_poste</th>\n",
       "      <th>n_heures_class</th>\n",
       "      <th>id_matiere</th>\n",
       "      <th>grade_prof</th>\n",
       "      <th>discipline_recrutement</th>\n",
       "      <th>commune_domicile_prof</th>\n",
       "      <th>X_prof</th>\n",
       "      <th>Y_prof</th>\n",
       "      <th>id_prof</th>\n",
       "      <th>secteur</th>\n",
       "      <th>X_school</th>\n",
       "      <th>Y_school</th>\n",
       "      <th>latitude_school</th>\n",
       "      <th>longitude_school</th>\n",
       "    </tr>\n",
       "  </thead>\n",
       "  <tbody>\n",
       "    <tr>\n",
       "      <th>0</th>\n",
       "      <td>0240001W</td>\n",
       "      <td>3A</td>\n",
       "      <td>D</td>\n",
       "      <td>L1800</td>\n",
       "      <td>1.0</td>\n",
       "      <td>90100</td>\n",
       "      <td>5512.0</td>\n",
       "      <td>1800A</td>\n",
       "      <td>24181.0</td>\n",
       "      <td>497445.0970</td>\n",
       "      <td>6408755.428</td>\n",
       "      <td>538.0</td>\n",
       "      <td>PU</td>\n",
       "      <td>523298.6</td>\n",
       "      <td>6409730.3</td>\n",
       "      <td>44.7642210214</td>\n",
       "      <td>0.766679163802</td>\n",
       "    </tr>\n",
       "    <tr>\n",
       "      <th>1</th>\n",
       "      <td>0240001W</td>\n",
       "      <td>3A</td>\n",
       "      <td>D</td>\n",
       "      <td>L1700</td>\n",
       "      <td>1.0</td>\n",
       "      <td>81300</td>\n",
       "      <td>5531.0</td>\n",
       "      <td>1700E</td>\n",
       "      <td>24037.0</td>\n",
       "      <td>500260.2204</td>\n",
       "      <td>6420140.757</td>\n",
       "      <td>1654.0</td>\n",
       "      <td>PU</td>\n",
       "      <td>523298.6</td>\n",
       "      <td>6409730.3</td>\n",
       "      <td>44.7642210214</td>\n",
       "      <td>0.766679163802</td>\n",
       "    </tr>\n",
       "    <tr>\n",
       "      <th>2</th>\n",
       "      <td>0240001W</td>\n",
       "      <td>3A</td>\n",
       "      <td>D</td>\n",
       "      <td>L0422</td>\n",
       "      <td>3.0</td>\n",
       "      <td>30201</td>\n",
       "      <td>7811.0</td>\n",
       "      <td>0422E</td>\n",
       "      <td>nan</td>\n",
       "      <td>NaN</td>\n",
       "      <td>NaN</td>\n",
       "      <td>5311.0</td>\n",
       "      <td>PU</td>\n",
       "      <td>523298.6</td>\n",
       "      <td>6409730.3</td>\n",
       "      <td>44.7642210214</td>\n",
       "      <td>0.766679163802</td>\n",
       "    </tr>\n",
       "    <tr>\n",
       "      <th>3</th>\n",
       "      <td>0240001W</td>\n",
       "      <td>3A</td>\n",
       "      <td>D</td>\n",
       "      <td>L0426</td>\n",
       "      <td>2.5</td>\n",
       "      <td>30602</td>\n",
       "      <td>5531.0</td>\n",
       "      <td>0426E</td>\n",
       "      <td>24140.0</td>\n",
       "      <td>506813.3173</td>\n",
       "      <td>6418707.236</td>\n",
       "      <td>8628.0</td>\n",
       "      <td>PU</td>\n",
       "      <td>523298.6</td>\n",
       "      <td>6409730.3</td>\n",
       "      <td>44.7642210214</td>\n",
       "      <td>0.766679163802</td>\n",
       "    </tr>\n",
       "    <tr>\n",
       "      <th>4</th>\n",
       "      <td>0240001W</td>\n",
       "      <td>3A</td>\n",
       "      <td>D</td>\n",
       "      <td>L1300</td>\n",
       "      <td>3.0</td>\n",
       "      <td>61300</td>\n",
       "      <td>5531.0</td>\n",
       "      <td>1300E</td>\n",
       "      <td>24566.0</td>\n",
       "      <td>517179.9671</td>\n",
       "      <td>6416863.586</td>\n",
       "      <td>10176.0</td>\n",
       "      <td>PU</td>\n",
       "      <td>523298.6</td>\n",
       "      <td>6409730.3</td>\n",
       "      <td>44.7642210214</td>\n",
       "      <td>0.766679163802</td>\n",
       "    </tr>\n",
       "  </tbody>\n",
       "</table>\n",
       "</div>"
      ],
      "text/plain": [
       "  etablissement id_groupe division_groupe discipline_poste  n_heures_class  \\\n",
       "0      0240001W        3A               D            L1800             1.0   \n",
       "1      0240001W        3A               D            L1700             1.0   \n",
       "2      0240001W        3A               D            L0422             3.0   \n",
       "3      0240001W        3A               D            L0426             2.5   \n",
       "4      0240001W        3A               D            L1300             3.0   \n",
       "\n",
       "  id_matiere grade_prof discipline_recrutement commune_domicile_prof  \\\n",
       "0      90100     5512.0                  1800A               24181.0   \n",
       "1      81300     5531.0                  1700E               24037.0   \n",
       "2      30201     7811.0                  0422E                   nan   \n",
       "3      30602     5531.0                  0426E               24140.0   \n",
       "4      61300     5531.0                  1300E               24566.0   \n",
       "\n",
       "        X_prof       Y_prof  id_prof secteur  X_school   Y_school  \\\n",
       "0  497445.0970  6408755.428    538.0      PU  523298.6  6409730.3   \n",
       "1  500260.2204  6420140.757   1654.0      PU  523298.6  6409730.3   \n",
       "2          NaN          NaN   5311.0      PU  523298.6  6409730.3   \n",
       "3  506813.3173  6418707.236   8628.0      PU  523298.6  6409730.3   \n",
       "4  517179.9671  6416863.586  10176.0      PU  523298.6  6409730.3   \n",
       "\n",
       "  latitude_school longitude_school  \n",
       "0   44.7642210214   0.766679163802  \n",
       "1   44.7642210214   0.766679163802  \n",
       "2   44.7642210214   0.766679163802  \n",
       "3   44.7642210214   0.766679163802  \n",
       "4   44.7642210214   0.766679163802  "
      ]
     },
     "execution_count": 8,
     "metadata": {},
     "output_type": "execute_result"
    }
   ],
   "source": [
    "df_merge = pd.merge(df, df_schools)\n",
    "df_merge.head()"
   ]
  },
  {
   "cell_type": "code",
   "execution_count": 9,
   "metadata": {},
   "outputs": [
    {
     "data": {
      "text/plain": [
       "202954"
      ]
     },
     "execution_count": 9,
     "metadata": {},
     "output_type": "execute_result"
    }
   ],
   "source": [
    "len(df_merge)"
   ]
  },
  {
   "cell_type": "code",
   "execution_count": null,
   "metadata": {},
   "outputs": [],
   "source": []
  },
  {
   "cell_type": "code",
   "execution_count": 19,
   "metadata": {},
   "outputs": [],
   "source": [
    "df = pd.read_csv('df_nonan.csv')"
   ]
  },
  {
   "cell_type": "markdown",
   "metadata": {},
   "source": [
    "Number of professors by field by establishment"
   ]
  },
  {
   "cell_type": "code",
   "execution_count": 20,
   "metadata": {},
   "outputs": [],
   "source": [
    "df_1 = df.groupby(['etablissement','id_prof']).id_matiere.nunique()"
   ]
  },
  {
   "cell_type": "markdown",
   "metadata": {},
   "source": [
    "Number of establishments by teacher"
   ]
  },
  {
   "cell_type": "code",
   "execution_count": 21,
   "metadata": {},
   "outputs": [
    {
     "name": "stdout",
     "output_type": "stream",
     "text": [
      "id_prof\n",
      "23851.0    2\n",
      "23853.0    3\n",
      "23854.0    2\n",
      "23856.0    2\n",
      "23860.0    2\n",
      "Name: etablissement, dtype: int64\n",
      "---------------\n",
      "Percentage of profs in more than one establishment: 0.1151545614475999\n",
      "---------------\n",
      "Percentage of profs in one establishment: 0.8848454385524\n",
      "---------------\n",
      "Number of profs moving: 2291\n",
      "Number of profs NOT moving: 17604\n"
     ]
    }
   ],
   "source": [
    "df_2 = df.groupby(['id_prof']).etablissement.nunique()\n",
    "print(df_2[df_2.values > 1].tail())\n",
    "print('---------------')\n",
    "print('Percentage of profs in more than one establishment:',len(df_2[df_2.values > 1])/len(df_2))\n",
    "print('---------------')\n",
    "print('Percentage of profs in one establishment:',len(df_2[df_2.values == 1])/len(df_2))\n",
    "print('---------------')\n",
    "print('Number of profs moving:',len(df_2[df_2.values > 1]))\n",
    "print('Number of profs NOT moving:',len(df_2[df_2.values == 1]))"
   ]
  },
  {
   "cell_type": "markdown",
   "metadata": {},
   "source": [
    "Proportion of teachers moving in different numbers of establishments"
   ]
  },
  {
   "cell_type": "code",
   "execution_count": 58,
   "metadata": {},
   "outputs": [
    {
     "data": {
      "text/plain": [
       "dtype('int64')"
      ]
     },
     "execution_count": 58,
     "metadata": {},
     "output_type": "execute_result"
    }
   ],
   "source": [
    "df_3 = df_2[df_2.values > 1]\n"
   ]
  },
  {
   "cell_type": "markdown",
   "metadata": {},
   "source": [
    "Number of courses by teacher"
   ]
  },
  {
   "cell_type": "code",
   "execution_count": 77,
   "metadata": {},
   "outputs": [
    {
     "data": {
      "text/html": [
       "<div>\n",
       "<style scoped>\n",
       "    .dataframe tbody tr th:only-of-type {\n",
       "        vertical-align: middle;\n",
       "    }\n",
       "\n",
       "    .dataframe tbody tr th {\n",
       "        vertical-align: top;\n",
       "    }\n",
       "\n",
       "    .dataframe thead th {\n",
       "        text-align: right;\n",
       "    }\n",
       "</style>\n",
       "<table border=\"1\" class=\"dataframe\">\n",
       "  <thead>\n",
       "    <tr style=\"text-align: right;\">\n",
       "      <th></th>\n",
       "      <th>Code établissement</th>\n",
       "      <th>Appellation officielle</th>\n",
       "      <th>Dénomination principale</th>\n",
       "      <th>Patronyme uai</th>\n",
       "      <th>Secteur Public/Privé</th>\n",
       "      <th>Adresse</th>\n",
       "      <th>Lieu dit</th>\n",
       "      <th>Boite postale</th>\n",
       "      <th>Code postal</th>\n",
       "      <th>Localite d'acheminement</th>\n",
       "      <th>...</th>\n",
       "      <th>Code état établissement</th>\n",
       "      <th>Etat établissement</th>\n",
       "      <th>Code département</th>\n",
       "      <th>Code région</th>\n",
       "      <th>Code académie</th>\n",
       "      <th>Code commune</th>\n",
       "      <th>Département</th>\n",
       "      <th>Région</th>\n",
       "      <th>Académie</th>\n",
       "      <th>Position</th>\n",
       "    </tr>\n",
       "  </thead>\n",
       "  <tbody>\n",
       "    <tr>\n",
       "      <th>0</th>\n",
       "      <td>0470032E</td>\n",
       "      <td>Collège J.Ph. Delmas de Grammont</td>\n",
       "      <td>COLLEGE</td>\n",
       "      <td>J.PH. DELMAS DE GRAMMONT</td>\n",
       "      <td>Public</td>\n",
       "      <td>AVENUE DU 11 NOVEMBRE 1918</td>\n",
       "      <td>NaN</td>\n",
       "      <td>NaN</td>\n",
       "      <td>47130</td>\n",
       "      <td>PORT STE MARIE</td>\n",
       "      <td>...</td>\n",
       "      <td>1</td>\n",
       "      <td>OUVERT</td>\n",
       "      <td>47</td>\n",
       "      <td>75</td>\n",
       "      <td>4</td>\n",
       "      <td>47210</td>\n",
       "      <td>Lot-et-Garonne</td>\n",
       "      <td>Nouvelle-Aquitaine</td>\n",
       "      <td>Bordeaux</td>\n",
       "      <td>44.2520429195, 0.385169774826</td>\n",
       "    </tr>\n",
       "    <tr>\n",
       "      <th>1</th>\n",
       "      <td>0470093W</td>\n",
       "      <td>Section d'enseignement professionnel du Lycée ...</td>\n",
       "      <td>SECTION ENSEIGNT PROFESSIONNEL</td>\n",
       "      <td>LPO VAL DE GARONNE</td>\n",
       "      <td>Public</td>\n",
       "      <td>22  RUE E LOS CABALLEROS</td>\n",
       "      <td>NaN</td>\n",
       "      <td>307.0</td>\n",
       "      <td>47207</td>\n",
       "      <td>MARMANDE CEDEX</td>\n",
       "      <td>...</td>\n",
       "      <td>1</td>\n",
       "      <td>OUVERT</td>\n",
       "      <td>47</td>\n",
       "      <td>75</td>\n",
       "      <td>4</td>\n",
       "      <td>47157</td>\n",
       "      <td>Lot-et-Garonne</td>\n",
       "      <td>Nouvelle-Aquitaine</td>\n",
       "      <td>Bordeaux</td>\n",
       "      <td>44.5041978894, 0.156696460324</td>\n",
       "    </tr>\n",
       "    <tr>\n",
       "      <th>2</th>\n",
       "      <td>0470721D</td>\n",
       "      <td>Section d'enseignement général et professionne...</td>\n",
       "      <td>SEGPA</td>\n",
       "      <td>CLG LA ROCAL</td>\n",
       "      <td>Public</td>\n",
       "      <td>NaN</td>\n",
       "      <td>NaN</td>\n",
       "      <td>13.0</td>\n",
       "      <td>47240</td>\n",
       "      <td>BON ENCONTRE</td>\n",
       "      <td>...</td>\n",
       "      <td>1</td>\n",
       "      <td>OUVERT</td>\n",
       "      <td>47</td>\n",
       "      <td>75</td>\n",
       "      <td>4</td>\n",
       "      <td>47032</td>\n",
       "      <td>Lot-et-Garonne</td>\n",
       "      <td>Nouvelle-Aquitaine</td>\n",
       "      <td>Bordeaux</td>\n",
       "      <td>44.1866794142, 0.6687307112</td>\n",
       "    </tr>\n",
       "    <tr>\n",
       "      <th>3</th>\n",
       "      <td>0471015Y</td>\n",
       "      <td>Section d'enseignement général et professionne...</td>\n",
       "      <td>SEGPA PRIVEE</td>\n",
       "      <td>CLG PR FELIX AUNAC</td>\n",
       "      <td>Privé</td>\n",
       "      <td>34 cours Victor Hugo</td>\n",
       "      <td>NaN</td>\n",
       "      <td>NaN</td>\n",
       "      <td>47000</td>\n",
       "      <td>AGEN</td>\n",
       "      <td>...</td>\n",
       "      <td>1</td>\n",
       "      <td>OUVERT</td>\n",
       "      <td>47</td>\n",
       "      <td>75</td>\n",
       "      <td>4</td>\n",
       "      <td>47001</td>\n",
       "      <td>Lot-et-Garonne</td>\n",
       "      <td>Nouvelle-Aquitaine</td>\n",
       "      <td>Bordeaux</td>\n",
       "      <td>44.2019980569, 0.621136396919</td>\n",
       "    </tr>\n",
       "    <tr>\n",
       "      <th>4</th>\n",
       "      <td>0400034V</td>\n",
       "      <td>Collège George Sand</td>\n",
       "      <td>COLLEGE</td>\n",
       "      <td>GEORGE SAND</td>\n",
       "      <td>Public</td>\n",
       "      <td>55  PLACE CHAMBRELENT</td>\n",
       "      <td>NaN</td>\n",
       "      <td>NaN</td>\n",
       "      <td>40120</td>\n",
       "      <td>ROQUEFORT</td>\n",
       "      <td>...</td>\n",
       "      <td>1</td>\n",
       "      <td>OUVERT</td>\n",
       "      <td>40</td>\n",
       "      <td>75</td>\n",
       "      <td>4</td>\n",
       "      <td>40245</td>\n",
       "      <td>Landes</td>\n",
       "      <td>Nouvelle-Aquitaine</td>\n",
       "      <td>Bordeaux</td>\n",
       "      <td>44.0320328913, -0.321725459625</td>\n",
       "    </tr>\n",
       "  </tbody>\n",
       "</table>\n",
       "<p>5 rows × 30 columns</p>\n",
       "</div>"
      ],
      "text/plain": [
       "  Code établissement                             Appellation officielle  \\\n",
       "0           0470032E                   Collège J.Ph. Delmas de Grammont   \n",
       "1           0470093W  Section d'enseignement professionnel du Lycée ...   \n",
       "2           0470721D  Section d'enseignement général et professionne...   \n",
       "3           0471015Y  Section d'enseignement général et professionne...   \n",
       "4           0400034V                                Collège George Sand   \n",
       "\n",
       "          Dénomination principale             Patronyme uai  \\\n",
       "0                         COLLEGE  J.PH. DELMAS DE GRAMMONT   \n",
       "1  SECTION ENSEIGNT PROFESSIONNEL        LPO VAL DE GARONNE   \n",
       "2                           SEGPA              CLG LA ROCAL   \n",
       "3                    SEGPA PRIVEE        CLG PR FELIX AUNAC   \n",
       "4                         COLLEGE               GEORGE SAND   \n",
       "\n",
       "  Secteur Public/Privé                     Adresse Lieu dit  Boite postale  \\\n",
       "0               Public  AVENUE DU 11 NOVEMBRE 1918      NaN            NaN   \n",
       "1               Public    22  RUE E LOS CABALLEROS      NaN          307.0   \n",
       "2               Public                         NaN      NaN           13.0   \n",
       "3                Privé        34 cours Victor Hugo      NaN            NaN   \n",
       "4               Public       55  PLACE CHAMBRELENT      NaN            NaN   \n",
       "\n",
       "   Code postal Localite d'acheminement               ...                \\\n",
       "0        47130          PORT STE MARIE               ...                 \n",
       "1        47207          MARMANDE CEDEX               ...                 \n",
       "2        47240            BON ENCONTRE               ...                 \n",
       "3        47000                    AGEN               ...                 \n",
       "4        40120               ROQUEFORT               ...                 \n",
       "\n",
       "  Code état établissement  Etat établissement  Code département Code région  \\\n",
       "0                       1              OUVERT                47          75   \n",
       "1                       1              OUVERT                47          75   \n",
       "2                       1              OUVERT                47          75   \n",
       "3                       1              OUVERT                47          75   \n",
       "4                       1              OUVERT                40          75   \n",
       "\n",
       "   Code académie  Code commune     Département              Région  Académie  \\\n",
       "0              4         47210  Lot-et-Garonne  Nouvelle-Aquitaine  Bordeaux   \n",
       "1              4         47157  Lot-et-Garonne  Nouvelle-Aquitaine  Bordeaux   \n",
       "2              4         47032  Lot-et-Garonne  Nouvelle-Aquitaine  Bordeaux   \n",
       "3              4         47001  Lot-et-Garonne  Nouvelle-Aquitaine  Bordeaux   \n",
       "4              4         40245          Landes  Nouvelle-Aquitaine  Bordeaux   \n",
       "\n",
       "                         Position  \n",
       "0   44.2520429195, 0.385169774826  \n",
       "1   44.5041978894, 0.156696460324  \n",
       "2     44.1866794142, 0.6687307112  \n",
       "3   44.2019980569, 0.621136396919  \n",
       "4  44.0320328913, -0.321725459625  \n",
       "\n",
       "[5 rows x 30 columns]"
      ]
     },
     "execution_count": 77,
     "metadata": {},
     "output_type": "execute_result"
    }
   ],
   "source": [
    "oihew = pd.read_csv('schools.csv', delimiter=';')\n",
    "oihew.head()"
   ]
  }
 ],
 "metadata": {
  "kernelspec": {
   "display_name": "Python 3",
   "language": "python",
   "name": "python3"
  },
  "language_info": {
   "codemirror_mode": {
    "name": "ipython",
    "version": 3
   },
   "file_extension": ".py",
   "mimetype": "text/x-python",
   "name": "python",
   "nbconvert_exporter": "python",
   "pygments_lexer": "ipython3",
   "version": "3.7.1"
  }
 },
 "nbformat": 4,
 "nbformat_minor": 2
}
